{
 "cells": [
  {
   "cell_type": "markdown",
   "id": "24ef385f",
   "metadata": {},
   "source": [
    "# Guide de déploiement sur Vercel avec Analytics\n",
    "\n",
    "Ce guide vous explique comment déployer le livre IVIA-AF sur Vercel avec Vercel Analytics intégré.\n",
    "\n",
    "## Prérequis\n",
    "\n",
    "1. Un compte Vercel (gratuit)\n",
    "2. Un repository GitHub avec votre code\n",
    "\n",
    "## Déploiement\n",
    "\n",
    "1. Connectez votre repository GitHub à Vercel\n",
    "2. Vercel détectera automatiquement la configuration `vercel.json`\n",
    "3. Le build se fera automatiquement avec la commande : `pip install -r requirements.txt && d2lbook build html`\n",
    "\n",
    "## Analytics\n",
    "\n",
    "Le projet utilise **Vercel Analytics** intégré, qui est :\n",
    "- ✅ **Automatique** - Pas de configuration supplémentaire\n",
    "- ✅ **Gratuit** - Inclus avec Vercel\n",
    "- ✅ **Privé** - Respecte la vie privée des utilisateurs\n",
    "- ✅ **Simple** - Données disponibles dans le dashboard Vercel\n",
    "\n",
    "### Activation\n",
    "\n",
    "1. Dans votre projet Vercel, allez dans **Settings** → **Analytics**\n",
    "2. Activez **Vercel Analytics**\n",
    "3. C'est tout ! Les données commencent à être collectées automatiquement\n",
    "\n",
    "### Données collectées\n",
    "\n",
    "- **Pages visitées** - Quelles pages sont les plus populaires\n",
    "- **Sources de trafic** - D'où viennent vos visiteurs\n",
    "- **Clics sur liens externes** - Quels liens externes sont cliqués\n",
    "- **Informations de base** - Navigateur, pays, etc.\n",
    "\n",
    "## Fonctionnalités Analytics\n",
    "\n",
    "### Tracking automatique\n",
    "- **Pages visitées** : Chaque page visitée est enregistrée\n",
    "- **Sources de trafic** : Sites référents\n",
    "- **Clics sur liens externes** : Suivi des liens sortants\n",
    "- **Informations de base** : User agent, timestamp\n",
    "\n",
    "### Données collectées\n",
    "- URL de la page visitée\n",
    "- Site référent (d'où vient le visiteur)\n",
    "- User agent (navigateur, système d'exploitation)\n",
    "- Timestamp de la visite\n",
    "\n",
    "## Structure des fichiers"
   ]
  },
  {
   "cell_type": "markdown",
   "id": "8b49cf40",
   "metadata": {},
   "source": [
    "```\n",
    "livre/\n",
    "├── static/\n",
    "│   ├── analytics.js      # Script client de tracking simple\n",
    "│   └── custom_template.html # Template HTML avec analytics\n",
    "├── vercel.json           # Configuration Vercel\n",
    "├── package.json          # Dépendances Node.js\n",
    "└── requirements.txt      # Dépendances Python\n",
    "```\n"
   ]
  },
  {
   "cell_type": "markdown",
   "id": "21b72741",
   "metadata": {},
   "source": [
    "## Commandes utiles"
   ]
  },
  {
   "cell_type": "markdown",
   "id": "e3929bfc",
   "metadata": {},
   "source": [
    "```bash\n",
    "# Build local\n",
    "d2lbook build html\n",
    "\n",
    "# Déploiement local\n",
    "vercel\n",
    "\n",
    "# Déploiement en production\n",
    "vercel --prod\n",
    "```\n"
   ]
  },
  {
   "cell_type": "markdown",
   "id": "566b287a",
   "metadata": {},
   "source": [
    "## Personnalisation\n",
    "\n",
    "### Modifier le tracking\n",
    "Éditez `static/analytics.js` pour ajouter de nouveaux événements à tracker.\n",
    "\n",
    "### Intégrer un autre service d'analytics\n",
    "Remplacez le code dans `static/analytics.js` par l'intégration de votre choix.\n",
    "\n",
    "## Avantages de cette approche\n",
    "\n",
    "- ✅ **Simple** : Pas de base de données à gérer\n",
    "- ✅ **Rapide** : Déploiement immédiat\n",
    "- ✅ **Fiable** : Utilise les services Vercel intégrés\n",
    "- ✅ **Privé** : Respecte la vie privée des utilisateurs\n",
    "- ✅ **Gratuit** : Vercel Analytics est inclus gratuitement\n",
    "\n",
    "## Support\n",
    "\n",
    "Pour toute question ou problème :\n",
    "- Email : contact@ivia.africa\n",
    "- GitHub : https://github.com/IVIA-AF/livre"
   ]
  }
 ],
 "metadata": {
  "language_info": {
   "name": "python"
  }
 },
 "nbformat": 4,
 "nbformat_minor": 5
}