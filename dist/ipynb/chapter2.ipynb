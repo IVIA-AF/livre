{
 "cells": [
  {
   "cell_type": "markdown",
   "id": "e67a4906",
   "metadata": {},
   "source": [
    "# Pré-requis\n",
    "\n",
    "Python est le langage de programmation préféré des Data Scientistes. Ils\n",
    "ont besoin d'un langage facile à utiliser, avec une disponibilité\n",
    "décente des bibliothèques et une grande communauté. Les projets ayant\n",
    "des communautés inactives sont généralement moins susceptibles de mettre\n",
    "à jour leurs plates-formes. Mais alors, pourquoi Python est populaire en\n",
    "Data Science ?\n",
    "\n",
    "Python est connu depuis longtemps comme un langage de programmation\n",
    "simple à maîtriser, du point de vue de la syntaxe. Python possède\n",
    "également une communauté active et un vaste choix de bibliothèques et de\n",
    "ressources. Comme résultat, vous disposez d'une plate-forme de\n",
    "programmation qui est logique d'utiliser avec les technologies\n",
    "émergentes telles que l'apprentissage automatique (Machine Learning) et\n",
    "la Data Science.\n",
    "\n",
    "## Langage Python et ses Librairies\n",
    "\n",
    "Python est un langage de programmation puissant et facile à apprendre.\n",
    "Il dispose de structures de données de haut niveau et permet une\n",
    "approche simple mais efficace de la programmation orientée objet. Parce\n",
    "que sa syntaxe est élégante, que son typage est dynamique et qu'il est\n",
    "interprété, Python est un langage idéal pour l'écriture de scripts quand\n",
    "on fait de l'apprentissage automatique et le développement rapide\n",
    "d'applications dans de nombreux domaines et sur la plupart des\n",
    "plate-formes.\n",
    "\n",
    "### Installation de Python et Anaconda\n",
    "\n",
    "L'installation de Python peut-être un vrai challenge. Déjà il faut se\n",
    "décider entre les versions 2.X et 3.X du langage, par la suite, choisir\n",
    "les librairies nécessaires (ainsi que les versions compatibles) pour\n",
    "faire de l'apprentissage automatique (Machine Learning); sans oublier\n",
    "les subtilités liées aux différents Systèmes d'exploitation (Windows,\n",
    "Linux, Mac...) qui peuvent rendre l'installation encore plus\n",
    "_\\\"douloureuse\\\"_.\n",
    "\n",
    "Dans cette partie nous allons installer pas à pas un environnement de\n",
    "développement Python en utilisant Anaconda[^1]. A l'issue de cette\n",
    "partie, nous aurons un environnement de développement fonctionnel avec\n",
    "les librairies (packages) nécessaires pour faire de l'apprentissage\n",
    "automatique (Machine Learning).\n",
    "\n",
    "**Qu'est ce que Anaconda ?**\n",
    "\n",
    "L'installation d'un environnement Python complet peut-être assez\n",
    "complexe. Déjà, il faut télécharger Python et l'installer, puis\n",
    "télécharger une à une les librairies (packages) dont on a besoin.\n",
    "Parfois, le nombre de ces librairies peut-être grand. Par ailleurs, il\n",
    "faut s'assurer de la compatibilité entre les versions des différents\n",
    "packages qu'on a à télécharger. _Bref, ce n'est pas amusant_!\n",
    "\n",
    "Alors Anaconda est une distribution Python. À son installation, Anaconda\n",
    "installera Python ainsi qu'une multitude de packages dont vous pouvez\n",
    "consulter la\n",
    "[liste](https://docs.anaconda.com/anaconda/packages/pkg-docs/#Python-3-7).\n",
    "Cela nous évite de nous ruer dans les problèmes d'incompatibilités entre\n",
    "les différents packages. Finalement, Anaconda propose un outil de\n",
    "gestion de packages appelé Conda. Ce dernier permettra de mettre à jour\n",
    "et installer facilement les librairies dont on aura besoin pour nos\n",
    "développements.\n",
    "\n",
    "**Téléchargement et Installation de Anaconda**\n",
    "\n",
    "**Note**: Les instructions qui suivent ont été testées sur Linux/Debian.\n",
    "Le même processus d'installation pourra s'appliquer pour les autres\n",
    "systèmes d'exploitation.\n",
    "\n",
    "Pour installer Anaconda sur votre ordinateur, vous allez vous rendre sur\n",
    "le [site officiel ](http://docs.anaconda.com/anaconda/navigator/) depuis\n",
    "lequel l'on va télécharger directement la dernière version d'Anaconda.\n",
    "Prenez la version du binaire qu'il vous faut :\n",
    "\n",
    "- Choisissez le système d'exploitation cible (Linux, Windows, Mac,\n",
    "  etc...)\n",
    "\n",
    "- Sélectionnez la version 3.X (à l'heure de l'écriture de ce document,\n",
    "  c'est la version 3.8 qui est proposée, surtout pensez à toujours\n",
    "  installer la version la plus récente de Python), compatible (64 bits\n",
    "  ou 32 bits) avec l'architecture de votre ordinateur.\n",
    "\n",
    "Après le téléchargement, si vous êtes sur Windows, alors rien de bien\n",
    "compliqué double cliquez sur le fichier exécutable et suivez les\n",
    "instructions classique d'installation d'un logiciel sur Windows.\n",
    "\n",
    "Si par contre vous êtes sur Linux, alors suivez les instructions qui\n",
    "suivent:\n",
    "\n",
    "- Ouvrez votre terminal et rassurez vous que votre chemin accès est\n",
    "  celui dans lequel se trouve votre fichier d'installation.\n",
    "\n",
    "- Exécutez la commande: [\\$ bash Anaconda3-2020.02-Linux-x86_64.sh\n",
    "  ]{style=\"color: blue\"}, rassurez vous du nom du fichier\n",
    "  d'installation, il peut changer selon la version que vous\n",
    "  choisissez.\n",
    "\n",
    "Après que l'installation se soit déroulée normalement, éditez le fichier\n",
    "caché **.bashrc** pour ajouter le chemin d'accès à Anaconda. Pour cela\n",
    "exécutez les commandes suivantes:\n",
    "\n",
    "- [\\$ cd \\~]{style=\"color: blue\"}\n",
    "\n",
    "- [\\$ gedit .bashrc]{style=\"color: blue\"}\n",
    "\n",
    "- Ajoutez cette commande à la dernière ligne du fichier que vous venez\n",
    "  d'ouvrir\n",
    "\n",
    "- [export PATH= \\~/anaconda3/bin:\\$PATH]{style=\"color: blue\"}\n",
    "\n",
    "Maintenant que c'est fait, enregistrez le fichier et fermez-le. Puis\n",
    "exécutez les commandes suivantes\n",
    "\n",
    "- [\\$ conda init]{style=\"color: blue\"}\n",
    "\n",
    "- [\\$ Python]{style=\"color: blue\"}\n",
    "\n",
    "Pour ce qui est de l'installation sur Mac, veuillez suivre la procédure\n",
    "d'installation dans la [documentation\n",
    "d'Anaconda](https://docs.anaconda.com/anaconda/install/mac-os/).\n",
    "\n",
    "Il existe une distribution appelée\n",
    "[Miniconda](https://docs.conda.io/en/latest/miniconda.html) qui est un\n",
    "programme d'installation minimal gratuit pour conda. Il s'agit d'une\n",
    "petite version bootstrap d'Anaconda qui inclut uniquement conda, Python,\n",
    "les packages dont ils dépendent, et un petit nombre d'autres packages\n",
    "utiles.\n",
    "\n",
    "Terminons cette partie en nous familiarisant avec quelques notions de la\n",
    "programmation Python.\n",
    "\n",
    "**Première utilisation de Anaconda**\n",
    "\n",
    "La distribution Anaconda propose deux moyens d'accéder à ses fonctions:\n",
    "soit de manière graphique avec Anaconda-Navigator, soit en ligne de\n",
    "commande (depuis Anaconda Prompt sur Windows, ou un terminal pour Linux\n",
    "ou MacOS). Sous Windows ou MacOs, démarrez Anaconda-Navigator dans le\n",
    "menu des programmes. Sous Linux, dans un terminal, tapez la commande :\n",
    "[\\$ anaconda-navigator]{style=\"color: blue\"} (cette commande est aussi\n",
    "disponible dans le prompt de Windows). Anaconda-Navigator propose\n",
    "différents services (déjà installés, ou à installer). Son onglet Home\n",
    "permet de lancer le service désiré. Les principaux services à utiliser\n",
    "pour développer des programmes Python sont :\n",
    "\n",
    "- Spyder\n",
    "\n",
    "- IDE Python\n",
    "\n",
    "- Jupyter notebook et jupyter lab : permet de panacher des cellules de\n",
    "  commandes Python (code) et des cellules de texte (Markdown).\n",
    "\n",
    "Pour la prise en main de Python nous allons utiliser jupyter lab.\n",
    "\n",
    "### Prise en main de Python\n",
    "\n",
    "Nous avons préparé un notebook qui nous permettra d'aller de zèro à demi\n",
    "Héros en Python. Le notebook se trouve\n",
    "[ici](https://colab.research.google.com/drive/1zILtNrCmPDFyQQ1Ev1H4jeHx7FuyEZ27?usp=sharing).\n",
    "\n",
    "#### Python pour les debutants : Notions de bases du python\n",
    "\n",
    "##### Les nombres avec Python!\n",
    "\n",
    "Dans cette partie, nous allons tout apprendre  comment  utiliser les nombres sur Python.\n",
    "\n",
    "Nous allons couvrir les points suivants :\n",
    "\n",
    "1.   Les types de nombres sur Python\n",
    "2.   Arithmetique de base sur les nombres\n",
    "3.   Différences entre Python 2 et 3\n",
    "4.   Assignation d'objets dans Python\n",
    "\n",
    "##### Les types de nombres\n",
    "\n",
    "Python a plusieurs \"types\" de nombres. Nous  nous occuperons principalement des entiers (integers) et des nombres à virgule flottante (float).\n",
    "\n",
    "Le type entier (integer) représente des nombres entiers, positifs ou negatifs. Par exemple: 7 et -1 sont des integers.\n",
    "\n",
    "Le type flottant (float) de Python est facile à identifier parce que les nombres sont représentés avec la partie décimal (Attention, ici les nombre decimaux sont representer avec un point et non la virgule comme habituellement en langue française), ou alors avec le signe exponentiels (reprensenter par __e__) pour représenter les puissances de 10. Par exemple, 2.0 et -2.1 sont des nombres de type flottant. 2e3 ( 2 fois 10 à la puissance 3) est aussi un nombre de type flottant en Python.\n",
    "\n",
    "\n",
    "Voici un tableau des deux types que nous manipulerons le plus dans ce cours:\n",
    "\n",
    ": Les types de nomber en Python.\n",
    "\n",
    "| Exemples | Type | \n",
    "| ---  | --- |\n",
    "| 1, 4, -2, 100 | Integers | \n",
    "| 1.4, 0.3, -0.5, 2e2, 3e2 | Floating-point numbers (float) |\n",
    ":label:`table_nombre`\n",
    "\n",
    "Voyons maintenant, quelques examples d'arithmétique simples que l'on peux appliquer sur ses elements.\n",
    "\n",
    "###### Arithmétique"
   ]
  },
  {
   "cell_type": "code",
   "execution_count": 1,
   "id": "e29e87c4",
   "metadata": {
    "execution": {
     "iopub.execute_input": "2025-07-18T17:21:24.382559Z",
     "iopub.status.busy": "2025-07-18T17:21:24.382285Z",
     "iopub.status.idle": "2025-07-18T17:21:24.393561Z",
     "shell.execute_reply": "2025-07-18T17:21:24.393186Z"
    }
   },
   "outputs": [
    {
     "data": {
      "text/plain": [
       "4"
      ]
     },
     "execution_count": 1,
     "metadata": {},
     "output_type": "execute_result"
    }
   ],
   "source": [
    "# Addition de 1 et 3 = 4\n",
    "1+3"
   ]
  },
  {
   "cell_type": "code",
   "execution_count": 2,
   "id": "f3d1d2ff",
   "metadata": {
    "execution": {
     "iopub.execute_input": "2025-07-18T17:21:24.418670Z",
     "iopub.status.busy": "2025-07-18T17:21:24.418534Z",
     "iopub.status.idle": "2025-07-18T17:21:24.420832Z",
     "shell.execute_reply": "2025-07-18T17:21:24.420525Z"
    }
   },
   "outputs": [
    {
     "data": {
      "text/plain": [
       "2"
      ]
     },
     "execution_count": 2,
     "metadata": {},
     "output_type": "execute_result"
    }
   ],
   "source": [
    "# Soustraction de 1 dans 3 = 2\n",
    "3-1"
   ]
  },
  {
   "cell_type": "code",
   "execution_count": 3,
   "id": "28c11032",
   "metadata": {
    "execution": {
     "iopub.execute_input": "2025-07-18T17:21:24.422342Z",
     "iopub.status.busy": "2025-07-18T17:21:24.422223Z",
     "iopub.status.idle": "2025-07-18T17:21:24.424345Z",
     "shell.execute_reply": "2025-07-18T17:21:24.424067Z"
    }
   },
   "outputs": [
    {
     "data": {
      "text/plain": [
       "4"
      ]
     },
     "execution_count": 3,
     "metadata": {},
     "output_type": "execute_result"
    }
   ],
   "source": [
    "# Multiplication de 2 par 2 = 4\n",
    "2*2"
   ]
  },
  {
   "cell_type": "code",
   "execution_count": 4,
   "id": "fdf3b325",
   "metadata": {
    "execution": {
     "iopub.execute_input": "2025-07-18T17:21:24.425807Z",
     "iopub.status.busy": "2025-07-18T17:21:24.425704Z",
     "iopub.status.idle": "2025-07-18T17:21:24.427567Z",
     "shell.execute_reply": "2025-07-18T17:21:24.427318Z"
    }
   },
   "outputs": [
    {
     "data": {
      "text/plain": [
       "2.5"
      ]
     },
     "execution_count": 4,
     "metadata": {},
     "output_type": "execute_result"
    }
   ],
   "source": [
    "# Division de 5 par 2 = 2.5 (remaquez qu'on a la un flottant)\n",
    "5/2"
   ]
  },
  {
   "cell_type": "code",
   "execution_count": 5,
   "id": "efb2ec06",
   "metadata": {
    "execution": {
     "iopub.execute_input": "2025-07-18T17:21:24.428979Z",
     "iopub.status.busy": "2025-07-18T17:21:24.428869Z",
     "iopub.status.idle": "2025-07-18T17:21:24.430934Z",
     "shell.execute_reply": "2025-07-18T17:21:24.430678Z"
    }
   },
   "outputs": [
    {
     "data": {
      "text/plain": [
       "8"
      ]
     },
     "execution_count": 5,
     "metadata": {},
     "output_type": "execute_result"
    }
   ],
   "source": [
    "# Puissances. 2 a la  puissances 3 = 8\n",
    "2**3"
   ]
  },
  {
   "cell_type": "code",
   "execution_count": 6,
   "id": "7e39fa15",
   "metadata": {
    "execution": {
     "iopub.execute_input": "2025-07-18T17:21:24.432340Z",
     "iopub.status.busy": "2025-07-18T17:21:24.432232Z",
     "iopub.status.idle": "2025-07-18T17:21:24.434196Z",
     "shell.execute_reply": "2025-07-18T17:21:24.433941Z"
    }
   },
   "outputs": [
    {
     "data": {
      "text/plain": [
       "2.0"
      ]
     },
     "execution_count": 6,
     "metadata": {},
     "output_type": "execute_result"
    }
   ],
   "source": [
    "#la racine carree peut se calculer  de la même manière = 2.0\n",
    "4**0.5"
   ]
  },
  {
   "cell_type": "markdown",
   "id": "ea8e0ee8",
   "metadata": {},
   "source": [
    "##### Ordre de priorite"
   ]
  },
  {
   "cell_type": "code",
   "execution_count": 7,
   "id": "372dd48d",
   "metadata": {
    "execution": {
     "iopub.execute_input": "2025-07-18T17:21:24.435645Z",
     "iopub.status.busy": "2025-07-18T17:21:24.435538Z",
     "iopub.status.idle": "2025-07-18T17:21:24.437564Z",
     "shell.execute_reply": "2025-07-18T17:21:24.437308Z"
    }
   },
   "outputs": [
    {
     "data": {
      "text/plain": [
       "105"
      ]
     },
     "execution_count": 7,
     "metadata": {},
     "output_type": "execute_result"
    }
   ],
   "source": [
    "# Voyons quel ordre de priorite python fais sur les operteurs\n",
    "2 + 10 * 10 + 3  # avec ceci nous obtenons un resultats errone = 105"
   ]
  },
  {
   "cell_type": "code",
   "execution_count": 8,
   "id": "e4a97ac1",
   "metadata": {
    "execution": {
     "iopub.execute_input": "2025-07-18T17:21:24.438882Z",
     "iopub.status.busy": "2025-07-18T17:21:24.438783Z",
     "iopub.status.idle": "2025-07-18T17:21:24.440711Z",
     "shell.execute_reply": "2025-07-18T17:21:24.440480Z"
    }
   },
   "outputs": [
    {
     "data": {
      "text/plain": [
       "156"
      ]
     },
     "execution_count": 8,
     "metadata": {},
     "output_type": "execute_result"
    }
   ],
   "source": [
    "# Avec des parenthèse nous pouvons garder le contrôle de ces priorités\n",
    "(2+10) * (10+3)"
   ]
  },
  {
   "cell_type": "markdown",
   "id": "9a3d78ca",
   "metadata": {},
   "source": [
    "##### Les variables\n",
    "\n",
    "Maintenant que nous savons comment utiliser python en mode calculette, nous pouvons créer des variables et leur assigner des valeurs comme des nombres.\n",
    "Notons que l'utilisation des variables sur python est un tout petit peu different que ce qui ce passe dans d'autre langage de programmation.\n",
    "Contrairement a d'autre language, python utilise une technique de typage faible. Les variables ne sont pas declarees a l'avance avant l'untilisation.\n",
    "\n",
    "Il suffit d'un simple signe égal = pour assigner un nom à une variable.\n",
    "Voyons quelques exemples pour détailler la façon de faire."
   ]
  },
  {
   "cell_type": "code",
   "execution_count": 9,
   "id": "e9e35a66",
   "metadata": {
    "execution": {
     "iopub.execute_input": "2025-07-18T17:21:24.442105Z",
     "iopub.status.busy": "2025-07-18T17:21:24.442002Z",
     "iopub.status.idle": "2025-07-18T17:21:24.443651Z",
     "shell.execute_reply": "2025-07-18T17:21:24.443397Z"
    }
   },
   "outputs": [],
   "source": [
    "# Créons un objet nommé \"x\" et \"y\" et nous leur assignons la valeur 5 et .2 respectivement\n",
    "x = 5 # ici la variable x est de type integer\n",
    "y = .2 # ici la variable y est de type flottant (notons que 0.2 peut aussi s'ecrire .2 tout simplement)"
   ]
  },
  {
   "cell_type": "markdown",
   "id": "e2fff60f",
   "metadata": {},
   "source": [
    "Maintenant, nous pouvons appeler *x* or *y* dans un script Python qui les traitera comme le nombre 5 ou .2 respectivement"
   ]
  },
  {
   "cell_type": "code",
   "execution_count": 10,
   "id": "65969fa4",
   "metadata": {
    "execution": {
     "iopub.execute_input": "2025-07-18T17:21:24.445083Z",
     "iopub.status.busy": "2025-07-18T17:21:24.445006Z",
     "iopub.status.idle": "2025-07-18T17:21:24.447028Z",
     "shell.execute_reply": "2025-07-18T17:21:24.446779Z"
    }
   },
   "outputs": [
    {
     "data": {
      "text/plain": [
       "5.2"
      ]
     },
     "execution_count": 10,
     "metadata": {},
     "output_type": "execute_result"
    }
   ],
   "source": [
    "# additionner des objets\n",
    "x+y"
   ]
  },
  {
   "cell_type": "code",
   "execution_count": 11,
   "id": "e90e1772",
   "metadata": {
    "execution": {
     "iopub.execute_input": "2025-07-18T17:21:24.448351Z",
     "iopub.status.busy": "2025-07-18T17:21:24.448252Z",
     "iopub.status.idle": "2025-07-18T17:21:24.449708Z",
     "shell.execute_reply": "2025-07-18T17:21:24.449457Z"
    }
   },
   "outputs": [],
   "source": [
    "# Ré-assignation\n",
    "x = 10"
   ]
  },
  {
   "cell_type": "code",
   "execution_count": 12,
   "id": "39827114",
   "metadata": {
    "execution": {
     "iopub.execute_input": "2025-07-18T17:21:24.451092Z",
     "iopub.status.busy": "2025-07-18T17:21:24.451014Z",
     "iopub.status.idle": "2025-07-18T17:21:24.452963Z",
     "shell.execute_reply": "2025-07-18T17:21:24.452735Z"
    }
   },
   "outputs": [
    {
     "data": {
      "text/plain": [
       "10"
      ]
     },
     "execution_count": 12,
     "metadata": {},
     "output_type": "execute_result"
    }
   ],
   "source": [
    "# Vérification\n",
    "x"
   ]
  },
  {
   "cell_type": "code",
   "execution_count": 13,
   "id": "47b4f955",
   "metadata": {
    "execution": {
     "iopub.execute_input": "2025-07-18T17:21:24.454258Z",
     "iopub.status.busy": "2025-07-18T17:21:24.454181Z",
     "iopub.status.idle": "2025-07-18T17:21:24.455760Z",
     "shell.execute_reply": "2025-07-18T17:21:24.455557Z"
    }
   },
   "outputs": [],
   "source": [
    "# Nous utilisons x pour assigner x de nouveau\n",
    "x = x + x"
   ]
  },
  {
   "cell_type": "code",
   "execution_count": 14,
   "id": "ad87acf5",
   "metadata": {
    "execution": {
     "iopub.execute_input": "2025-07-18T17:21:24.456968Z",
     "iopub.status.busy": "2025-07-18T17:21:24.456900Z",
     "iopub.status.idle": "2025-07-18T17:21:24.458743Z",
     "shell.execute_reply": "2025-07-18T17:21:24.458541Z"
    }
   },
   "outputs": [
    {
     "data": {
      "text/plain": [
       "20"
      ]
     },
     "execution_count": 14,
     "metadata": {},
     "output_type": "execute_result"
    }
   ],
   "source": [
    "# Vérification\n",
    "x"
   ]
  },
  {
   "cell_type": "code",
   "execution_count": 15,
   "id": "d7a5ea27",
   "metadata": {
    "execution": {
     "iopub.execute_input": "2025-07-18T17:21:24.459952Z",
     "iopub.status.busy": "2025-07-18T17:21:24.459882Z",
     "iopub.status.idle": "2025-07-18T17:21:24.461338Z",
     "shell.execute_reply": "2025-07-18T17:21:24.461118Z"
    }
   },
   "outputs": [],
   "source": [
    "# Incrementation par 1 (on peux aussi incrementer avec n'importe quel nombre)\n",
    "x = x+1"
   ]
  },
  {
   "cell_type": "code",
   "execution_count": 16,
   "id": "8382378a",
   "metadata": {
    "execution": {
     "iopub.execute_input": "2025-07-18T17:21:24.462526Z",
     "iopub.status.busy": "2025-07-18T17:21:24.462432Z",
     "iopub.status.idle": "2025-07-18T17:21:24.464352Z",
     "shell.execute_reply": "2025-07-18T17:21:24.464084Z"
    }
   },
   "outputs": [
    {
     "data": {
      "text/plain": [
       "21"
      ]
     },
     "execution_count": 16,
     "metadata": {},
     "output_type": "execute_result"
    }
   ],
   "source": [
    "x"
   ]
  },
  {
   "cell_type": "code",
   "execution_count": 17,
   "id": "d10411f6",
   "metadata": {
    "execution": {
     "iopub.execute_input": "2025-07-18T17:21:24.465502Z",
     "iopub.status.busy": "2025-07-18T17:21:24.465439Z",
     "iopub.status.idle": "2025-07-18T17:21:24.466848Z",
     "shell.execute_reply": "2025-07-18T17:21:24.466635Z"
    }
   },
   "outputs": [],
   "source": [
    "#Autre syntaxe pour incrementer une variable\n",
    "x += 1"
   ]
  },
  {
   "cell_type": "code",
   "execution_count": 18,
   "id": "ed5ccb87",
   "metadata": {
    "execution": {
     "iopub.execute_input": "2025-07-18T17:21:24.468077Z",
     "iopub.status.busy": "2025-07-18T17:21:24.467988Z",
     "iopub.status.idle": "2025-07-18T17:21:24.469803Z",
     "shell.execute_reply": "2025-07-18T17:21:24.469589Z"
    }
   },
   "outputs": [
    {
     "data": {
      "text/plain": [
       "22"
      ]
     },
     "execution_count": 18,
     "metadata": {},
     "output_type": "execute_result"
    }
   ],
   "source": [
    "x"
   ]
  },
  {
   "cell_type": "code",
   "execution_count": 19,
   "id": "591a5d32",
   "metadata": {
    "execution": {
     "iopub.execute_input": "2025-07-18T17:21:24.470996Z",
     "iopub.status.busy": "2025-07-18T17:21:24.470928Z",
     "iopub.status.idle": "2025-07-18T17:21:24.472447Z",
     "shell.execute_reply": "2025-07-18T17:21:24.472223Z"
    }
   },
   "outputs": [],
   "source": [
    "#Decrementation par 1\n",
    "x = x -1"
   ]
  },
  {
   "cell_type": "code",
   "execution_count": 20,
   "id": "e0d99990",
   "metadata": {
    "execution": {
     "iopub.execute_input": "2025-07-18T17:21:24.473661Z",
     "iopub.status.busy": "2025-07-18T17:21:24.473581Z",
     "iopub.status.idle": "2025-07-18T17:21:24.475382Z",
     "shell.execute_reply": "2025-07-18T17:21:24.475156Z"
    }
   },
   "outputs": [
    {
     "data": {
      "text/plain": [
       "21"
      ]
     },
     "execution_count": 20,
     "metadata": {},
     "output_type": "execute_result"
    }
   ],
   "source": [
    "x"
   ]
  },
  {
   "cell_type": "code",
   "execution_count": 21,
   "id": "46da375f",
   "metadata": {
    "execution": {
     "iopub.execute_input": "2025-07-18T17:21:24.476585Z",
     "iopub.status.busy": "2025-07-18T17:21:24.476518Z",
     "iopub.status.idle": "2025-07-18T17:21:24.478028Z",
     "shell.execute_reply": "2025-07-18T17:21:24.477784Z"
    }
   },
   "outputs": [],
   "source": [
    "#Autre syntaxe pour decrementer une variable\n",
    "x -= 1"
   ]
  },
  {
   "cell_type": "code",
   "execution_count": 22,
   "id": "ab9103d0",
   "metadata": {
    "execution": {
     "iopub.execute_input": "2025-07-18T17:21:24.479280Z",
     "iopub.status.busy": "2025-07-18T17:21:24.479213Z",
     "iopub.status.idle": "2025-07-18T17:21:24.480965Z",
     "shell.execute_reply": "2025-07-18T17:21:24.480758Z"
    }
   },
   "outputs": [
    {
     "data": {
      "text/plain": [
       "20"
      ]
     },
     "execution_count": 22,
     "metadata": {},
     "output_type": "execute_result"
    }
   ],
   "source": [
    "x"
   ]
  },
  {
   "cell_type": "code",
   "execution_count": 23,
   "id": "14d8bea2",
   "metadata": {
    "execution": {
     "iopub.execute_input": "2025-07-18T17:21:24.482136Z",
     "iopub.status.busy": "2025-07-18T17:21:24.482074Z",
     "iopub.status.idle": "2025-07-18T17:21:24.483501Z",
     "shell.execute_reply": "2025-07-18T17:21:24.483277Z"
    }
   },
   "outputs": [],
   "source": [
    "#Nous pouvons aussi multiplier l'ancienne valeur de x par un quelconque nombre.\n",
    "x *=2"
   ]
  },
  {
   "cell_type": "code",
   "execution_count": 24,
   "id": "b759cf07",
   "metadata": {
    "execution": {
     "iopub.execute_input": "2025-07-18T17:21:24.484739Z",
     "iopub.status.busy": "2025-07-18T17:21:24.484660Z",
     "iopub.status.idle": "2025-07-18T17:21:24.486537Z",
     "shell.execute_reply": "2025-07-18T17:21:24.486296Z"
    }
   },
   "outputs": [
    {
     "data": {
      "text/plain": [
       "40"
      ]
     },
     "execution_count": 24,
     "metadata": {},
     "output_type": "execute_result"
    }
   ],
   "source": [
    "x"
   ]
  },
  {
   "cell_type": "code",
   "execution_count": 25,
   "id": "95c00ce1",
   "metadata": {
    "execution": {
     "iopub.execute_input": "2025-07-18T17:21:24.487677Z",
     "iopub.status.busy": "2025-07-18T17:21:24.487607Z",
     "iopub.status.idle": "2025-07-18T17:21:24.489043Z",
     "shell.execute_reply": "2025-07-18T17:21:24.488837Z"
    }
   },
   "outputs": [],
   "source": [
    "#Nous pouvons aussi diviser l'ancienne valeur de x par un quelconque nombre.\n",
    "x /=2"
   ]
  },
  {
   "cell_type": "code",
   "execution_count": 26,
   "id": "9988341b",
   "metadata": {
    "execution": {
     "iopub.execute_input": "2025-07-18T17:21:24.490244Z",
     "iopub.status.busy": "2025-07-18T17:21:24.490162Z",
     "iopub.status.idle": "2025-07-18T17:21:24.491906Z",
     "shell.execute_reply": "2025-07-18T17:21:24.491696Z"
    }
   },
   "outputs": [
    {
     "data": {
      "text/plain": [
       "20.0"
      ]
     },
     "execution_count": 26,
     "metadata": {},
     "output_type": "execute_result"
    }
   ],
   "source": [
    "x"
   ]
  },
  {
   "cell_type": "markdown",
   "id": "3242e247",
   "metadata": {},
   "source": [
    "NB: Toutes les operations que nous venons de voir s'applique aussi sur les flottants\n",
    "\n",
    "__Tout de meme, voici quelques règles à respecter pour créer un nom de variable :__\n",
    "\n",
    "  1. Les noms ne doivent pas commencer par un nombre.\n",
    "  2. Pas d'espace dans les noms, utilisez _ à la place\n",
    "  3. Interdit d'utiliser les symboles suivants : '\",<>/?|\\()!@#$%^&*~-+\n",
    "  4. C'est une bonne pratique (PEP8) de mettre les noms en minuscules\n",
    "    \n",
    "Les noms de variables permettent de conserver et manipuler plusieurs valeurs de façon simple avec Python."
   ]
  },
  {
   "cell_type": "code",
   "execution_count": 27,
   "id": "6ddc9b55",
   "metadata": {
    "execution": {
     "iopub.execute_input": "2025-07-18T17:21:24.493083Z",
     "iopub.status.busy": "2025-07-18T17:21:24.493019Z",
     "iopub.status.idle": "2025-07-18T17:21:24.494615Z",
     "shell.execute_reply": "2025-07-18T17:21:24.494402Z"
    }
   },
   "outputs": [],
   "source": [
    "# Utilisez toujours des noms explicites pour mieux suivre ce que fait votre code !\n",
    "prix_vente = 280\n",
    "\n",
    "prix_unitaire = 150\n",
    "\n",
    "benefice = prix_vente - prix_unitaire"
   ]
  },
  {
   "cell_type": "code",
   "execution_count": 28,
   "id": "bd532725",
   "metadata": {
    "execution": {
     "iopub.execute_input": "2025-07-18T17:21:24.495723Z",
     "iopub.status.busy": "2025-07-18T17:21:24.495651Z",
     "iopub.status.idle": "2025-07-18T17:21:24.497433Z",
     "shell.execute_reply": "2025-07-18T17:21:24.497226Z"
    }
   },
   "outputs": [
    {
     "data": {
      "text/plain": [
       "130"
      ]
     },
     "execution_count": 28,
     "metadata": {},
     "output_type": "execute_result"
    }
   ],
   "source": [
    "# Visualiser le benefice !\n",
    "benefice"
   ]
  },
  {
   "cell_type": "markdown",
   "id": "9de92844",
   "metadata": {},
   "source": [
    "## Les Bases Mathématiques pour l'Apprentissage Automatique\n",
    "\n",
    "Dans cette section, nous allons présenter les notions mathématiques\n",
    "essentielles à l'apprentissage automatique (machine learning). Nous\n",
    "n'aborderons pas les théories complexes des mathématiques afin de\n",
    "permettre aux débutants (en mathématiques) ou mêmes les personnes hors\n",
    "du domaine mais intéressées à l'apprentissage automatique de pouvoir en\n",
    "profiter.\n",
    "\n",
    "### Algèbre linéaire et Analyse\n",
    "\n",
    "**Définition d'espaces vectoriels.** Un espace vectoriel est un triplet\n",
    "$(V, +, *)$ formé d'un ensemble $V$ muni de deux lois,\n",
    "\n",
    "$$\n",
    "\\begin{aligned}\n",
    "     +:\\quad & V\\times V \\longrightarrow{V}\\\\\n",
    "    &(u,v)\\mapsto u+v \\\\\n",
    "    \\text{et} \\qquad \\qquad\\\\\n",
    "    *:\\quad &\\mathbb{K}\\times V \\longrightarrow{V}, \\text{ avec $\\mathbb{K}$ un corps commutatif}\\\\\n",
    "    &(\\lambda,v)\\mapsto \\lambda * v=\\lambda v\\end{aligned}\n",
    "$$\n",
    "\n",
    "qui vérifient:\n",
    "\n",
    "1.  $\\text{ associativité de } + :\n",
    "       \\forall\\  u,v, w \\in V, \\quad (u+v)+w=u+(v+w)$\n",
    "\n",
    "2.  $\\text{ commutativité de } + :\n",
    "    \\forall\\ u,v\\in V,\\quad u+v=v+u$\n",
    "\n",
    "3.  $\\text{ existence d'élément neutre pour } + :\n",
    "        \\exists~ e \\in V : \\forall\\ u \\in V, \\quad u+e=e+u=u$\n",
    "\n",
    "4.  $\\text{ existence d'élément opposé pour } + :\n",
    "    \\forall \\ u \\in V, \\exists ~ v \\in V  :u+v=v+u=0. \\text{ On note } v=-u \\text{ et } v \\text{ est appelé l'opposé de } u$\n",
    "\n",
    "5.  $\\text{ existence de l'unité pour } * :\n",
    "        \\exists~ e \\in \\mathbb{K} \\text{ tel que } \\forall\\  u\\in V,\\quad e*u=u$\n",
    "\n",
    "6.  $\\text{ associativité de } * :\n",
    "        \\forall\\  (\\lambda_1, \\lambda_2, u) \\in \\mathbb{K} \\times \\mathbb{K}\\times V,\\quad\n",
    "        (\\lambda_1 \\lambda_2)* u =\\lambda_1*(\\lambda_2 * u)$\n",
    "\n",
    "7.  $\\text{ somme de vecteurs (distributivité de * sur +)} :\n",
    "        \\forall\\  (\\lambda, u, v) \\in \\mathbb{K}\\times V\\times V, \\quad\\lambda*(u+v)=\\lambda * u+\\lambda * v$\n",
    "\n",
    "8.  :\n",
    "    $\\forall\\  (\\lambda_1, \\lambda_2, u) \\in \\mathbb{K} \\times \\mathbb{K}\\times V,\\quad\n",
    "        (\\lambda_1+\\lambda_2) * u=\\lambda_1 * u +\\lambda_2 * u.$\n",
    "\n",
    "**Remarque 1:** Les éléments de $V$ sont appelés des **vecteurs**, ceux\n",
    "de $\\mathbb{K}$ sont appelés des **scalaires** et l'élément neutre pour\n",
    "$+$ est appelé **vecteur nul**. Finalement, $V$ est appelé\n",
    "$\\mathbb{K}$-espace vectoriel ou espace vectoriel sur $\\mathbb{K}$.\\\n",
    "**Base d'un espace vectoriel.** Soit $V$ un $\\mathbb{K}$-espace\n",
    "vectoriel. Une famille de vecteurs\\\n",
    "$\\mathcal{B}=\\big\\{b_1, b_2, \\dots, b_n\\big\\}$ est appelée base de $V$\n",
    "si les deux propriétés suivantes sont satisfaites:\\\n",
    "\n",
    "- $\\forall\\  u \\in V, \\exists~ c_1, \\dots, c_n \\in \\mathbb{K}$ tels\n",
    "  que $\\displaystyle u = \\sum_{i=1}^{n}c_i b_i$\\\n",
    "  (On dit que $\\mathcal{B}$ est $\\textbf{une famille génératrice}$ de\n",
    "  $V$).\n",
    "- $\\displaystyle \\forall\\  \\lambda_1, \\dots, \\lambda_n \\in \\mathbb{K}, \\quad\\sum_{i=1}^{n}\\lambda_i b_i=0\\Longrightarrow \\lambda_i = 0 \\quad\\forall\\  i$.\\\n",
    "  (On dit que les éléments de $\\mathcal{B}$ sont _linéairement\n",
    "  indépendants_).\n",
    "\n",
    "Lorsque $\\displaystyle u = \\sum_{i=1}^{n}c_i b_i$, on dit que\n",
    "$c_1, \\dots, c_n$ sont les coordonnées de $u$ dans la base\n",
    "$\\mathcal{B}$. Si de plus aucune confusion n'est à craindre, on peut\n",
    "écrire: $$\\mathbf{u}=\\begin{bmatrix}\n",
    "c_1\\\\c_2\\\\ \\vdots\\\\ c_n\n",
    "\\end{bmatrix}.$$ **Définition.** Le nombre d'éléments dans une base d'un\n",
    "espace vectoriel est appelé **dimension** de l'espace vectoriel.\\\n",
    "**NB:** Un espace vectoriel ne peut être vide (il contient toujours le\n",
    "vecteur nul). L'**espace vectoriel nul** $\\{0\\}$ n'a pas de base et est\n",
    "**de dimension nulle**. Tout **espace vectoriel non nul** de dimension\n",
    "finie admet une infinité de bases mais sa **dimension est unique**.\\\n",
    "**Exemples d'espaces vectoriels**: Pour tous $n,m\\ge1$, l'ensemble des\n",
    "matrices $\\mathcal{M}_{nm}$ à coefficients réels et l'ensemble\n",
    "$\\mathbb{R}^n$ sont des $\\mathbb{R}$-espace vectoriels. En effet, il est\n",
    "très facile de vérifier que nos exemples satisfont les huit propriétés\n",
    "énoncées plus haut. Dans le cas particulier $V=\\mathbb{R}^n$, toute\n",
    "famille d'exactement $n$ vecteurs linéairement indépendants en est une\n",
    "base. En revanche, toute famille de moins de $n$ vecteurs ou qui\n",
    "contient plus que $n$ vecteurs ne peut être une base de $\\mathbb{R}^n$.\\\n",
    "\n",
    "**Matrices**: Soit $\\mathbb{K}$ un corps commutatif. Une matrice en\n",
    "mathématiques à valeurs dans $\\mathbb{K}$ est un tableau de nombres, où\n",
    "chaque nombre est un élément de $\\mathbb{K}$. Chaque ligne d'une telle\n",
    "matrice est un vecteur (élément d'un $\\mathbb{K}$-espace vectoriel). Une\n",
    "matrice est de la forme: $$\\mathbf{M}=\\begin{bmatrix}\n",
    "a_{11} &a_{12} \\dots a_{1n}\\\\\n",
    "a_{21} &a_{22} \\dots a_{2n}\\\\\n",
    "\\vdots\\\\\n",
    "a_{m1}& a_{m2} \\dots a_{mn}\n",
    "\\end{bmatrix}.$$\n",
    "\n",
    "On note aussi\n",
    "$\\mathbf{M}=\\big{(}a_{ij}\\big{)}_{1\\le i\\le m, 1\\le j\\le n}$.\n",
    "\n",
    "La matrice ci-dessus est carrée si $m=n$. Dans ce cas, la suite\n",
    "$[a_{11}, a_{22}, \\dots, a_{mm}]$ est appelée **diagonale** de $M$. Si\n",
    "tous les coefficients hors de la diagonale sont zéro, on dit que la\n",
    "matrice est diagonale. Une matrice avec tous ses coefficients nuls est\n",
    "dite matrice **nulle**.\\\n",
    "**Produit de matrices.** Soient\n",
    "$\\mathbf{A}=\\big{(}a_{ij}\\big{)}_{1\\le i\\le m, 1\\le j\\le n}, \\mathbf{B}=\\big{(}b_{ij}\\big{)}_{1\\le i\\le n, 1\\le j\\le q}$\n",
    "deux matrices.\\\n",
    "On définit le produit de $\\mathbf{A}$ par $\\mathbf{B}$ et on note\n",
    "$\\mathbf{A}\\times \\mathbf{B}$ ou simplement $\\mathbf{A}\\mathbf{B}$, la\n",
    "matrice $M$ définie par: $$\\begin{aligned}\n",
    "    \\mathbf{M}_{ij} = \\sum_{\\ell=1}^{n}a_{i\\ell}b_{\\ell j}, \\text{ pour tout } i \\text{ et } j.\\end{aligned}$$\n",
    "**Important.**\n",
    "\n",
    "- Le produit $\\mathbf{AB}$ est possible si et seulement si le nombre\n",
    "  de colonnes de $\\mathbf{A}$ est égal au nombre de lignes de\n",
    "  $\\mathbf{B}$.\n",
    "\n",
    "- Dans ce cas, $\\mathbf{AB}$ a le même nombre de lignes que\n",
    "  $\\mathbf{A}$ et le même nombre de colonnes que $\\mathbf{B}$.\n",
    "\n",
    "- Un autre point important à noter est que le produit matriciel n'est\n",
    "  pas commutatif ($\\mathbf{AB}$ n'est pas toujours égal à\n",
    "  $\\mathbf{BA}$).\n",
    "\n",
    "**Exemple.** Soient les matrices $\\mathbf{A}$ et $\\mathbf{B}$ définies\n",
    "par: $$\\mathbf{A} = \\begin{bmatrix}\n",
    "2 & -3 & 0\\\\\n",
    "5 &11 & 5\\\\\n",
    "1& 2 & 3\n",
    "\\end{bmatrix}, \\quad \\mathbf{B} = \\begin{bmatrix}\n",
    "1 & 3\\\\\n",
    "-5 &1\\\\\n",
    "1 & 2\n",
    "\\end{bmatrix},\n",
    "\\mathbf{A}+\\mathbf{B} = \\begin{bmatrix}\n",
    "1 & 3\\\\\n",
    "-5 &1\\\\\n",
    "1 & 2\n",
    "\\end{bmatrix}$$\n",
    "\n",
    "Le nombre de colonnes de la matrice $\\mathbf{A}$ est égal au nombre de\n",
    "lignes de la matrice $\\mathbf{B}$. $$\\mathbf{AB} = \\begin{bmatrix}\n",
    "2\\times1+(-3)\\times(-5)+0\\times1 & 2\\times3+(-3)\\times1+0\\times2\\\\\n",
    "5\\times1+11\\times(-5)+5\\times1 &5\\times3+11\\times1+5\\times2\\\\\n",
    "1\\times1+2\\times(-5)+3\\times1& 1\\times3+2\\times1+3\\times2\n",
    "\\end{bmatrix} = \\begin{bmatrix}\n",
    "17 & 3\\\\\n",
    "-45 &33\\\\\n",
    "-6 & 11\n",
    "\\end{bmatrix}.$$\n",
    "\n",
    "Le produit $\\mathbf{BA}$ n'est cependant pas possible.\n",
    "\n",
    "**Somme de matrices et multiplication d'une matrice par un scalaire.**\\\n",
    "La somme de matrices et multiplication d'une matrice par un scalaire se\n",
    "font coefficients par coefficients.\\\n",
    "Avec les matrice $\\mathbf{A}, \\mathbf{B}$ de l'exemple précédent, et\n",
    "$\\mathbf{C}=\\begin{bmatrix}\n",
    "-2 & -7 & 3\\\\\n",
    "5 &10 & 5\\\\\n",
    "12& 9 & 3\n",
    "\\end{bmatrix}$, on a: $$\\mathbf{A}+ \\mathbf{C} = \\begin{bmatrix}\n",
    "2+(-2) & -3+(-7) & 0+3\\\\\n",
    "5+5 &11+10 & 5+5\\\\\n",
    "1+12& 2+9 & 3+3\n",
    "\\end{bmatrix}=\\begin{bmatrix}\n",
    "0 & -10 & 3\\\\\n",
    "10 &21 & 10\\\\\n",
    "13& 11 & 6\n",
    "\\end{bmatrix}, \\text{ et pour tout } \\lambda \\in \\mathbb{R}, \\quad\n",
    "\\lambda \\mathbf{B} = \\begin{bmatrix}\n",
    "\\lambda & 3 \\lambda\\\\\n",
    "-5 \\lambda & \\lambda\\\\\n",
    "\\lambda & 2\\lambda\n",
    "\\end{bmatrix}.$$\n",
    "\n",
    "**NB:** La somme de matrice n'est définie que pour des matrices de même\n",
    "taille.\\\n",
    "**Déterminant d'une matrice.**\n",
    "\n",
    "Soit $\\mathbf{A}=(a_{ij})_{1\\le i\\le n, 1\\le j\\le n}$ une matrice carrée\n",
    "d'ordre $n$. Soit $\\mathbf{A}_{i,j}$ la sous-matrice de $\\mathbf{A}$\n",
    "obtenue en supprimant la ligne $i$ et la colonne $j$ de $\\mathbf{A}$. On\n",
    "appelle **déterminant** (au développement suivant la ligne $i$) de\n",
    "$\\mathbf{A}$ et on note $\\operatorname{det}(\\mathbf{A})$, le nombre\n",
    "\n",
    "$$\n",
    "\\begin{aligned}\n",
    "    \\operatorname{det}(\\mathbf{A}) = \\sum_{j=1}^{n}a_{ij}(-1)^{i+j}\\operatorname{det}(\\mathbf{A}_{i,j}),\\end{aligned}\n",
    "$$\n",
    "\n",
    "avec le déterminant d'une matrice carrée de taille $2\\times 2$ donné\n",
    "par: $$\\begin{aligned}\n",
    "    \\operatorname{det} \\left(\\begin{bmatrix}\n",
    "a & b\\\\\n",
    "c & d\\\\\n",
    "\\end{bmatrix}\\right) = ad-bc.\\end{aligned}$$\n",
    "\n",
    "**NB:** Le développement suivant toutes les lignes donne le même\n",
    "résultat.\\\n",
    "Le déterminant d'une matrice a une deuxième formulation dite de\n",
    "[Leibniz](https://fr.wikipedia.org/wiki/Formule_de_Leibniz#D) que nous\n",
    "n'introduisons pas dans ce document.\\\n",
    "**Inverse d'une matrice.** Soit $\\mathbf{A}$ une matrice carrée d'ordre\n",
    "$n$. $\\mathbf{A}$ est **inversible** s'il existe une autre matrice notée\n",
    "$\\mathbf{A}^{-1}$ telle que\n",
    "$\\mathbf{A}\\mathbf{A}^{-1}=\\mathbf{A}^{-1}\\mathbf{A}=\\mathbf{I}_n$, où\n",
    "$\\mathbf{I}_n$ est la matrice identité de taille $n\\times n$.\\\n",
    "Les matrices, leurs inverses et les opérations sur les matrices sont\n",
    "d'une importance capitale dans l'apprentissage automatique.\\\n",
    "**Vecteurs propres, valeurs propres d'une matrice.**\\\n",
    "Soient $E$ un espace vectoriel et $\\mathbf{A}$ une matrice. Un vecteur\n",
    "$\\mathbf{v}\\in E$ est dit **vecteur propre** de $\\mathbf{A}$ si\n",
    "$\\mathbf{v}\\neq 0$ et il existe un scalaire $\\lambda$ tel que\n",
    "$\\mathbf{A}\\mathbf{v}=\\lambda \\mathbf{v}$. Dans ce cas, on dit que\n",
    "$\\lambda$ est la **valeur propre** associée au vecteur propre\n",
    "$\\mathbf{v}$.\\\n",
    "\n",
    "**Applications linéaires et changement de base d'espaces vectoriels.**\\\n",
    "Soient $(E, \\mathcal{B}),\\ (F, \\mathcal{G})$ deux $\\mathbb{K}$-espace\n",
    "vectoriels, chacun muni d'une base et $f:\\ E \\rightarrow F$ une\n",
    "application.\\\n",
    "On dit que $f$ est **linéaire** si les propriétés suivantes sont\n",
    "satisfaites:\n",
    "\n",
    "1.  Pour tous $\\mathbf{u}, \\mathbf{v}\\in E$,\n",
    "    $f(\\mathbf{u}+\\mathbf{v})=f(\\mathbf{u})+f(\\mathbf{v})$.\n",
    "\n",
    "2.  Pour tout $(\\lambda, \\mathbf{u}) \\in \\mathbb{K}\\times E$,\n",
    "    $f(\\lambda \\mathbf{u})=\\lambda f(\\mathbf{u})$.\n",
    "\n",
    "On suppose que $\\mathcal{B}=\\{e_1, e_2, \\dots, e_n\\}$ et\n",
    "$\\mathcal{G}=\\{e'_1, e'_2, \\dots, e'_m\\}$.\\\n",
    "De manière équivalente, $f$ est linéaire s'il existe une matrice\n",
    "$\\mathbf{A}$ telle que pour tout\n",
    "$\\mathbf{x}\\in E, \\quad f(x)=\\mathbf{A}\\mathbf{x}$.\\\n",
    "Dans ce cas, la matrice $\\mathbf{A}$ que l'on note\n",
    "$Mat_{\\mathcal{B},\\mathcal{G}}(f)$ est appelée matrice (représentative)\n",
    "de l'application linéaire $f$ dans le couple de coordonnées\n",
    "$(\\mathcal{B},\\mathcal{G})$.\\\n",
    "La matrice $\\mathbf{A}$ est unique et de taille $m\\times n$ (notez la\n",
    "permutation _dimension de l'espace d'arrivée puis dimension de l'espace\n",
    "de départ dans la taille de la matrice_). De plus, la colonne $j$ de la\n",
    "matrice $\\mathbf{A}$ est constituée des coordonnées de $f(e_j)$ dans la\n",
    "base $\\mathcal{G}$ de $F$. Lorsque $E=F$, l'application linéaire $f$ est\n",
    "appelée **endomorphisme** de $E$ et on écrit simplement\n",
    "$Mat_{\\mathcal{B}}(f)$ au lieu de $Mat_{\\mathcal{B},\\mathcal{G}}(f)$.\n",
    "\n",
    "**Définition.** Soient $E$ un espace vectoriel de dimension finie et,\n",
    "$\\mathcal{B}$ et $\\mathcal{C}$, deux bases de $E$. On appelle **matrice\n",
    "de passage** de la base $\\mathcal{B}$ à la base $\\mathcal{C}$ la matrice\n",
    "de l'application identité $$\\begin{aligned}\n",
    "    id_E: \\quad &(E, \\mathcal{C})\\rightarrow (E, \\mathcal{B}):\\\\\n",
    "    & x \\mapsto x\\quad .\\end{aligned}$$ Cette matrice est notée\n",
    "$P_{\\mathcal{B}}^{\\mathcal{C}}$ et on a\n",
    "$P_{\\mathcal{B}}^{\\mathcal{C}}:=Mat_{\\mathcal{C},\\mathcal{B}}(id_E)$.\\\n",
    "**Note:** Si $\\mathbf{x}=\\begin{bmatrix}\n",
    "x_1\\\\x_2\\\\ \\vdots\\\\ x_n\n",
    "\\end{bmatrix}$ est un vecteur de $E$ exprimé dans la base $\\mathcal{B}$,\n",
    "alors l'expression de $\\mathbf{x}$ dans la base $\\mathcal{C}$ est donnée\n",
    "par $\\begin{bmatrix}\n",
    "x'_1\\\\x'_2\\\\ \\vdots\\\\ x'_n\n",
    "\\end{bmatrix}=(P_{\\mathcal{B}}^{\\mathcal{C}})^{-1}\\mathbf{x}=P_{\\mathcal{C}}^{\\mathcal{B}}\\mathbf{x}$.\\\n",
    "**Exemple.** Si $E=\\mathbb{R}^3$ avec ses deux bases\n",
    "\n",
    "$$\n",
    "\\mathcal{B}=\\left(\n",
    "\\begin{bmatrix}\n",
    "1\\\\0\\\\0\n",
    "\\end{bmatrix},\\begin{bmatrix}\n",
    "0\\\\1\\\\0\n",
    "\\end{bmatrix},\\begin{bmatrix}\n",
    "0\\\\0\\\\1\n",
    "\\end{bmatrix}\n",
    "\\right) \\text{ et } \\mathcal{C}=\\left(\n",
    "\\begin{bmatrix}\n",
    "-1\\\\2\\\\3\n",
    "\\end{bmatrix},\\begin{bmatrix}\n",
    "0\\\\1\\\\5\n",
    "\\end{bmatrix},\\begin{bmatrix}\n",
    "0\\\\0\\\\1\n",
    "\\end{bmatrix}\n",
    "\\right),$$ on a $P_{\\mathcal{B}}^{\\mathcal{C}} = \\begin{bmatrix}\n",
    "-1&0&0\\\\\n",
    "2&1&0\\\\\n",
    "3&5&1\n",
    "\\end{bmatrix}$ (c'est-à-dire qu'on exprime les vecteurs de $\\mathcal{C}$\n",
    "dans $\\mathcal{B}$ pour former $P_{\\mathcal{B}}^{\\mathcal{C}}$).\\\n",
    "**Formule du changement de base pour une application linéaire.**\\\n",
    "Soient $E$ une application linéaire et, $\\mathcal{B}$ et $\\mathcal{C}$,\n",
    "deux bases de $E$. Alors\n",
    "$$Mat_{\\mathcal{C}}(f)=P_{\\mathcal{C}}^{\\mathcal{B}} Mat_{\\mathcal{B}}(f)P_{\\mathcal{B}}^{\\mathcal{C}},$$\n",
    "ou encore\n",
    "$$Mat_{\\mathcal{C}}(f)=(P_{\\mathcal{B}}^{\\mathcal{C}})^{-1} Mat_{\\mathcal{B}}(f)P_{\\mathcal{B}}^{\\mathcal{C}}.$$\\\n",
    "**Diagonalisation et décomposition en valeurs singulières.**\\\n",
    "**Diagonalisation.** Soit $\\mathbf{A}$ une matrice carrée à coefficients\n",
    "dans $\\mathbb{K}=\\mathbb{R} \\text{ ou } \\mathbb{C}$. On dit que\n",
    "$\\mathbf{A}$ est **diagonalisable** s'il existe une matrice inversible\n",
    "$\\mathbf{P}$ et une matrice diagonale $\\mathbf{D}$ telles que\n",
    "$\\mathbf{A} = \\mathbf{P}\\mathbf{D}\\mathbf{P}^{-1}$. On dit aussi que\n",
    "$\\mathbf{A}$ est similaire à $\\mathbf{D}$.\\\n",
    "**Important.** Soient $E$ un espace vectoriel de dimension finie et $f$\n",
    "un endomorphisme de $E$ de matrice représentative (dans une base\n",
    "$\\mathcal{B}$ de $E$) diagonalisable\n",
    "$\\mathbf{A}=\\mathbf{P}\\mathbf{D}\\mathbf{P}^{-1}$. On rappelle que les\n",
    "colonnes de $\\mathbf{P}$ sont les vecteurs propres de $\\mathbf{A}$.\n",
    "Alors ces colonnes (dans leur ordre) constituent une base de $E$, et\n",
    "dans cette base, la matrice $\\mathbf{A}$ est représentée par la matrice\n",
    "diagonale $\\mathbf{D}$. En d'autres termes, si $\\mathcal{C}$ est la base\n",
    "des vecteurs propres de $\\mathbf{A}$, alors\n",
    "$Mat_{\\mathcal{C}}(f)=\\mathbf{D}$. Enfin, la matrice $\\mathbf{D}$ est\n",
    "constituée des valeurs propres de $\\mathbf{A}$ et le processus de calcul\n",
    "de $\\mathbf{P}$ et $\\mathbf{D}$ est appelé **diagonalisation**.\\\n",
    "**Décomposition en valeurs singulières.**\\\n",
    "Soit $\\mathbf{M}$ une matrice de taille $m\\times n$ et à coefficients\n",
    "dans $\\mathbb{K}=\\mathbb{R} \\text{ ou } \\mathbb{C}$. Alors $\\mathbf{M}$\n",
    "admet une factorisation de la forme\n",
    "$\\mathbf{M}=\\mathbf{U}\\mathbf{\\Sigma} \\mathbf{V}^*$, où\n",
    "$$\n",
    "\n",
    "- $\\mathbf{U}$ est une matrice unitaire (sur $\\mathbb{K}$) de taille\n",
    "  $m\\times m$.\\\n",
    "\n",
    "- $\\mathbf{V}^*$ est l'adjoint (conjugué de la transposée) de\n",
    "  $\\mathbf{V}$, matrice unitaire (sur $\\mathbb{K}$) de taille\n",
    "  $n\\times n$\\\n",
    "\n",
    "- $\\mathbf{\\Sigma}$ est une matrice de taille $m\\times n$ dont les\n",
    "  coefficients diagonaux sont les valeurs singulières de $\\mathbf{M}$,\n",
    "  i.e, les racines carrées des valeurs propres de\n",
    "  $\\mathbf{M}^*\\mathbf{M}$ et tous les autres coefficients sont nuls.\n",
    "\n",
    "Cette factorisation est appelée **la décomposition en valeurs\n",
    "singulières** de $\\mathbf{M}$.\n",
    "**Important.** Si la matrice $\\mathbf{M}$ est de rang $r$, alors\n",
    "\n",
    "- les $r$ premières colonnes de $\\mathbf{U}$ sont les vecteurs\n",
    "  singuliers à gauche de $\\mathbf{M}$\\\n",
    "\n",
    "- les $r$ premières colonnes de $\\mathbf{V}$ sont les vecteurs\n",
    "  singuliers à droite de $\\mathbf{M}$\n",
    "\n",
    "- les $r$ premiers coefficients strictement positifs de la diagonale\n",
    "  de $\\mathbf{\\Sigma}$ sont les valeurs singulières de $\\mathbf{M}$ et\n",
    "  tous les autres coefficients sont nuls.\n",
    "\n",
    "**Produit scalaire et normes vectorielles.** Soit $V$ un espace\n",
    "vectoriel sur $\\mathbb{R}$.\\\n",
    "On appelle produit scalaire sur $V$ toute application\n",
    "\n",
    "$$\n",
    "\\begin{aligned}\n",
    "    \\big{<}.,.\\big{>}:\\quad &V\\times V\\rightarrow{\\mathbb{R}}\\\\\n",
    "    &(\\mathbf{u},\\mathbf{v})\\mapsto \\big{<}\\mathbf{u},\\mathbf{v}\\big{>}, \\end{aligned}\n",
    "$$\n",
    "\n",
    "telle que,\n",
    "$\\forall ( \\lambda_1, \\lambda_2, \\mathbf{u}, \\mathbf{v}, \\mathbf{w}) \\in \\mathbb{R}\\times\\mathbb{R}\\times V\\times V \\times V,$\n",
    "\n",
    "- $\\langle\\mathbf{u}, \\mathbf{v}\\rangle = \\langle\\mathbf{v}, \\mathbf{u}\\rangle$(symétrie)\n",
    "\n",
    "- 1.  $\\langle\\lambda_1 \\mathbf{u}+\\lambda_2 \\mathbf{v}, \\mathbf{w}\\rangle = \\lambda_1\\langle \\mathbf{u},\\mathbf{w}\\rangle +\\lambda_2\\langle \\mathbf{v},\\mathbf{w}\\rangle$\n",
    "      (linéarité à gauche)\n",
    "\n",
    "  2.  $\\langle\\mathbf{u}, \\lambda_1 \\mathbf{v}+\\lambda_2 \\mathbf{w}\\rangle = \\lambda_1\\langle \\mathbf{u},\\mathbf{v}\\rangle +\\lambda_2\\langle \\mathbf{u},\\mathbf{w}\\rangle$\n",
    "      (linéarité à droite)\n",
    "\n",
    "- $\\langle\\mathbf{u}, \\mathbf{u}\\rangle \\geq 0 \\qquad$ (positive)\n",
    "\n",
    "- $\\langle\\mathbf{u}, \\mathbf{u}\\rangle = 0 \\implies \\mathbf{u}=0 \\qquad$\n",
    "  (définie)\n",
    "\n",
    "$$\n",
    "\\begin{aligned}\n",
    "    \\|.\\|: \\quad&V\\rightarrow{\\mathbb{R_{+}}}\\\\\n",
    "    &\\mathbf{v}\\mapsto \\|\\mathbf{v}\\|\\end{aligned}\n",
    "$$\n",
    "\n",
    "$V$\n",
    "$\\forall\\  (\\lambda, \\mathbf{u}, \\mathbf{v})\\in \\mathbb{R}\\times V\\times V$\\\n",
    "\n",
    "- $\\|\\lambda\\mathbf{u}\\| = |\\lambda| \\times \\|\\mathbf{u}\\|$\n",
    "\n",
    "- $\\|\\mathbf{u} + \\mathbf{v} \\| \\leq \\|\\mathbf{u}\\| + \\|\\mathbf{u}\\| + \\|v\\|$(inégalité\n",
    "  triangulaire)\n",
    "\n",
    "**Remarque 2** Si $\\big{<}.,.\\big{>}$ est un produit scalaire sur $V$,\n",
    "alors $\\big{<}.,.\\big{>}$ induit une norme sur $V$. En effet,\n",
    "\n",
    "$$\n",
    "\\begin{aligned}\n",
    "    \\|.\\|_{\\big{<}.,.\\big{>}}:\\quad&V\\rightarrow{\\mathbb{R_{+}}}\\\\\n",
    "    & \\mathbf{u}\\mapsto \\|\\mathbf{u}\\|=\\sqrt{\\big{<}\\mathbf{u},\\mathbf{u}\\big{>}}\\end{aligned}$$\\\n",
    "**Exemples de normes et produits scalaires.**\\\n",
    "Prenons $V=\\mathbb{R}^n$.\\\n",
    "$\\bullet$ Les applications $$\\begin{aligned}\n",
    "    \\rho:\\quad &V\\times V\\rightarrow{\\mathbb{R}}\\\\\n",
    "    &(\\mathbf{u},\\mathbf{v})\\mapsto \\sum_{i=1}^{n}u_iv_i ,\\end{aligned}\n",
    "$$\n",
    "\n",
    "et $$\\begin{aligned}\n",
    "    \\mu:\\quad &V\\rightarrow{\\mathbb{R}_+}\\\\\n",
    "    &\\mathbf{u}\\mapsto \\sqrt{\\sum_{i=1}^{n}u_i^2},\\end{aligned}$$ sont\n",
    "respectivement un produit scalaire et une norme sur $V$.\n",
    "Il faut remarquer que\n",
    "$\\forall\\  \\mathbf{u} \\in V, \\quad \\mu(\\mathbf{u})=\\sqrt{\\rho(\\mathbf{u},\\mathbf{u})}$.\\\n",
    "$\\bullet$ Pour tout $p\\in \\mathbb{N}^*$, l'application $$\\begin{aligned}\n",
    "    \\mu_p:\\quad &V\\rightarrow{\\mathbb{R}_+}\\\\\n",
    "    &\\mathbf{u}\\mapsto \\bigg{(}\\sum_{i=1}^{n}|u_i|^p\\bigg{)}^{\\frac{1}{p}},\\end{aligned}$$\n",
    "est une norme sur $V$ appelée norme $p$.\\\n",
    "Dans le cas $p=2$, on retrouve la norme $\\mu$ ci-dessus appelée norme\n",
    "euclidienne.\\\n",
    "\n",
    "**Remarque 3.** Un espace vectoriel muni d'une norme est appelé **espace\n",
    "vectoriel normé**.\\\n",
    "**Notion de distance.**\\\n",
    "Soit $E$ un ensemble non vide. Toute application\n",
    "$d:E \\times E \\rightarrow \\mathbb{R}_{+}$ qui satisfait pour tout\n",
    "$x, y, z \\in E$: $$\\begin{aligned}\n",
    "    &\\bullet \\quad d(x,y) = d(y,x) \\text{ (symétrie)}\\\\\n",
    "    &\\bullet \\quad d(x,y) = 0 \\Longrightarrow x=y\\text{ (séparation)}\\\\\n",
    "    &\\bullet \\quad d(x,y) \\le d(x,z)+d(z,y) \\text{ (inégalité triangulaire)}\\end{aligned}$$\n",
    "\n",
    "#### Exemples de distances.\n",
    "\n",
    "$\\bullet$ $$\\begin{aligned}\n",
    "    d:\\quad &\\mathbb{R}^n\\times \\mathbb{R}^{n}\\rightarrow{\\mathbb{R}_+}\\nonumber\\\\\n",
    "    &(\\mathbf{u}, \\mathbf{v})\\mapsto \\bigg{(}\\sum_{i=1}^{n}|u_i-v_i|\\bigg{)}.\n",
    "    \\end{aligned}$$ $\\bullet$ $$\\begin{aligned}\n",
    "    d:\\quad &\\mathbb{R}^n\\times \\mathbb{R}^n\\rightarrow{\\mathbb{R}_+}\\nonumber \\\\\n",
    "    &(\\mathbf{u}, \\mathbf{v})\\mapsto \\bigg{(}\\sum_{i=1}^{n}|u_i-v_i|^2\\bigg{)}^{\\frac{1}{2}}.\n",
    "    \\end{aligned}$$\n",
    "\n",
    "$\\bullet$ C'est la généralisation de la distance euclidienne et de la\n",
    "distance de Manhattan $$\\begin{aligned}\n",
    "    d_{Minkowski}:\\quad &\\mathbb{R}^n\\times \\mathbb{R}^n\\rightarrow{\\mathbb{R}_+}\\nonumber \\\\\n",
    "    &(\\mathbf{u}, \\mathbf{v})\\mapsto \\bigg{(}\\sum_{i=1}^{n}|u_i-v_i|^p\\bigg{)}^{\\frac{1}{p}}, p\\ge 1. \\end{aligned}$$ **Espaces métriques.**\\\n",
    "**Définition.** Un **espace métrique** est un ensemble $E$ muni d'une\n",
    "distance $d$; on écrit $(E, d)$.\\\n",
    "**Remarque 4.** Tout espace vectoriel normé est un espace métrique.\\\n",
    "**Suites dans un espace métrique.**\\\n",
    "Soit $(E,d)$ un espace métrique. On appelle **suite** (d'éléments de\n",
    "$E$) et on note $(u_n)_{n\\in I}$ ou $(u)_n$ une application:\n",
    "\n",
    "$$\n",
    "\\begin{aligned}\n",
    "    u: \\quad& I \\rightarrow E\\\\\n",
    "    & n \\mapsto u(n):=u_n\\end{aligned}$$ où $I$ est une partie infinie\n",
    "de $\\mathbb{N}$. On dit que la suite $(u)_n$ converge vers $u^*\\in E$ si\n",
    "pour tout $\\epsilon>0$ il existe $N \\in \\mathbb{N}$ tels que:\n",
    "$$\\begin{aligned}\n",
    "    \\forall\\  n\\in \\mathbb{N}, \\quad n>N \\Longrightarrow d(u_n, u^*) < \\epsilon\\end{aligned}\n",
    "$$\n",
    "\n",
    "En d'autres termes, la suite $(u)_n$ converge vers $u^*\\in E$ si pour\n",
    "tout $\\epsilon>0$, il existe un entier $N\\in \\mathbb{N}$ tel que pour\n",
    "tout $n>N$, $u_n$ est contenu dans la boule $\\mathcal{B}_{\\epsilon}$\n",
    "centrée en $u^*$ et de rayon $\\epsilon$.\n",
    "\n",
    "**NB:** La suite $(u)_n$ à valeurs dans $E$ peut converger dans un\n",
    "ensemble autre que $E$.\\\n",
    "**Définition.** La suite $(u)_n$ d'éléments de $E$ est dite de Cauchy si\n",
    "pour tout $\\epsilon>0$, il existe $N\\in\\mathbb{N}$ tel que:\n",
    "\n",
    "$$\n",
    "\\begin{aligned}\n",
    "    \\forall\\  n>m \\in \\mathbb{N},\\quad m>N \\Longrightarrow d(u_n, u_m)<\\epsilon.\\end{aligned}\n",
    "$$\n",
    "\n",
    "Autrement dit, tous les termes $u_n, u_m$ d'une suite de Cauchy se\n",
    "rapprochent de plus en plus lorsque $n$ et $m$ sont suffisamment\n",
    "grands.\\\n",
    "**Espaces métriques complets.**\\\n",
    "**Définition.** Un espace métrique $(E,d)$ est dit **complet** si toute\n",
    "suite de Cauchy de $E$ converge dans $E$.\\\n",
    "Un espace métrique complet est appelé **espace de Banach**.\\\n",
    "\n",
    "### Calcul du gradient (dérivation).\n",
    "\n",
    "**Fonction réelle.**\\\n",
    "**Définition.**\\\n",
    "Soit $f: J\\rightarrow \\mathbb{R}$ une fonction, avec $J$ un intervalle\n",
    "ouvert de $\\mathbb{R}$.\\\n",
    "On dit que $f$ est **dérivable** en $a\\in J$ si la limite:\n",
    "\n",
    "$$\n",
    "\\begin{aligned}\n",
    "    \\lim_{h\\rightarrow 0} \\frac{f(a+h)-f(a)}{h} \\text{ est finie.}\n",
    "\\end{aligned}\n",
    "$$\n",
    "\n",
    "Si $f$ est dérivable en $a$, la dérivée de $f$ en $a$ est notée $f'(a).$\n",
    "La fonction dérivée de $f$ est notée $f'$ ou\n",
    "$\\frac{\\mathrm{d}f}{\\mathrm{d}x}$ ou $\\mathrm{d}f$.\\\n",
    "**Exemple de dérivées.**\\\n",
    "\n",
    "- **Fonctions polynomiales.**\\\n",
    "  La dérivée de la fonction\n",
    "  $f(x)=a_nx^n+a_{n-1}x^{n-1}+\\dots + a_1x+a_0$, avec les $a_i$ des\n",
    "  constantes, est $f'(x)=na_nx^{n-1}+(n-1)a_{n-1}x^{n-2}+\\dots+a_1$.\\\n",
    "\n",
    "- **Fonction exponentielle de base $e$**.\\\n",
    "  La dérivée de la fonction $f(x)=\\exp(x)$ est la fonction $f$\n",
    "  elle-même, i.e, $\\frac{\\mathrm{d}\\exp}{\\mathrm{d}x}(x)=\\exp(x)$.\\\n",
    "\n",
    "- **Fonctions trigonométriques.**\\\n",
    "  $\\frac{\\mathrm{d}\\cos}{\\mathrm{d}x}( x)=-\\sin x$ et\n",
    "  $\\frac{\\mathrm{d} \\sin}{dx}(x)=\\cos x$.\n",
    "\n",
    "- **Fonction logarithme népérien**.\\\n",
    "  $\\frac{\\mathrm{d} \\ln}{\\mathrm{d}x}  (x) = \\frac{1}{x}$.\n",
    "\n",
    "**Propriétés.**\\\n",
    "Soient $J\\subseteq \\mathbb{R}$ un intervalle ouvert,\n",
    "$u,\\ v\\ : J\\rightarrow \\mathbb{R}$ deux fonctions et\n",
    "$\\lambda \\in \\mathbb{R}$. Alors on a les propriétés suivantes de la\n",
    "dérivée:\\\n",
    "\n",
    "1.  $(u+v)' = u'+v'$\\\n",
    "\n",
    "2.  $(uv)' = uv'+u'v$\\\n",
    "\n",
    "3.  $(\\lambda u)' = \\lambda u'$\n",
    "\n",
    "Ces propriétés s'étendent aux fonctions vectorielles en dimension\n",
    "supérieure.\\\n",
    "**Fonctions vectorielles.**\\\n",
    "Soit $f: \\mathcal{O}\\rightarrow \\mathbb{R}^p$ une fonction, avec\n",
    "$\\mathcal{O}$ une partie ouverte de $\\mathbb{R}^n, n, p\\ge 1$.\\\n",
    "On dit que $f$ est **différentiable** (au sens de Fréchet) en\n",
    "$\\mathbf{a}\\in \\mathcal{O}$, s'il existe une application linéaire\n",
    "continue $L: \\mathbb{R}^n\\rightarrow \\mathbb{R}^p$ telle que pour tout\n",
    "$h\\in \\mathbb{R}^n$, on a $$\\begin{aligned}\n",
    "    \\lim_{h\\rightarrow 0} \\frac{f(\\mathbf{a}+h)-f(\\mathbf{a})-L(h)}{\\|h\\|}=0.\\end{aligned}$$\n",
    "Si $f$ est différentiable en tout point de $\\mathcal{O}$, on dit que $f$\n",
    "est différentiable sur $\\mathcal{O}$.\\\n",
    "La différentielle de $f$ est notée $Df$.\\\n",
    "**Dérivées partielles.**\\\n",
    "Soient $\\mathbf{a}=\\begin{bmatrix}\n",
    "a_1\\\\ a_2\\\\ \\vdots \\\\ a_n\n",
    "\\end{bmatrix}\\in \\mathcal{O}\\subseteq{\\mathbb{R}^n}$ et\n",
    "$f: \\mathcal{O}\\rightarrow \\mathbb{R}^p$ une fonction.\\\n",
    "On dit que $f$ admet une dérivée partielle par rapport à la $j-ème$\n",
    "variable $x_j$ si la limite: $$\\begin{aligned}\n",
    "    \\lim_{h\\rightarrow 0}\\frac{f(a_1, a_2, \\dots, a_j+h, \\dots, a_n)-f(\\mathbf{a})}{h} \\text{ est finie.}\\end{aligned}$$\n",
    "La dérivée partielle par rapport à la variable $x_j$ de $f$ en\n",
    "$\\mathbf{a}$ est notée $\\frac{\\partial f}{\\partial x_j}(\\mathbf{a})$.\\\n",
    "**Note.** Si $f$ est différentiable, alors $f$ admet des dérivées\n",
    "partielles par rapport à toutes les variables.\\\n",
    "**Gradient et Matrice Jacobienne.** Soit\n",
    "$f: \\mathcal{O}\\subseteq\\mathbb{R}^n \\rightarrow \\mathbb{R}^p$ une\n",
    "fonction différentiable.\\\n",
    "On suppose que les fonctions composantes de $f$ sont\n",
    "$f_1, f_2, \\dots, f_p$.\\\n",
    "Alors la matrice des dérivées partielles $$\\begin{bmatrix}\n",
    "\\frac{\\partial f_1}{\\partial x_1} & \\frac{\\partial f_1}{\\partial x_2} &\\dots & \\frac{\\partial f_1}{\\partial x_n}\\\\[0.2cm]\n",
    "\\frac{\\partial f_2}{\\partial x_1} & \\frac{\\partial f_2}{\\partial x_2} &\\dots & \\frac{\\partial f_2}{\\partial x_n}\\\\\n",
    "\\vdots&\\vdots& & \\vdots\\\\\\vspace{0.2cm}\n",
    "\\frac{\\partial f_p}{\\partial x_1} & \\frac{\\partial f_p}{\\partial x_2} &\\dots & \\frac{\\partial f_p}{\\partial x_n}\n",
    "\\end{bmatrix}$$ est appelée la **matrice jacobienne** de $f$, notée\n",
    "$\\mathbf{J}_f$ ou $\\mathbf{J}(f)$.\\\n",
    "Dans le cas $p=1$, le vecteur $\\begin{bmatrix}\n",
    "\\frac{\\partial f}{\\partial x_1} \\\\[0.2cm] \\frac{\\partial f}{\\partial x_2} \\\\ \\vdots \\\\ \\frac{\\partial f}{\\partial x_n}\n",
    "\\end{bmatrix}$ est appelé $\\operatorname{\\mathbf{gradient}}$ de $f$ et\n",
    "noté $\\mathbf{\\nabla} f$ ou $\\operatorname{\\mathbf{grad}}(f)$.\\\n",
    "**Exemples du calcul de dérivées et de gradients sur $\\mathbb{R}^n$.**\\\n",
    "\n",
    "- $f(\\mathbf{x})=\\big{<}\\mathbf{x},\\mathbf{x}\\big{>}=\\mathbf{x}^T\\mathbf{x}$.\n",
    "  Le gradient de $f$ est $\\nabla f(\\mathbf{x})=2\\mathbf{x}$\\\n",
    "\n",
    "- $f(\\mathbf{x})=\\mathbf{A}\\mathbf{x}+\\mathbf{b}$, avec $\\mathbf{A}$\n",
    "  une matrice et $\\mathbf{b}$ un vecteur. On a\n",
    "  $Df(\\mathbf{x})=\\mathbf{A}.$\\\n",
    "\n",
    "#### Dérivées de fonctions composées.\n",
    "\n",
    "Il existe souvent des fonctions dont le gradient ne peut facilement être\n",
    "calculé en utilisant les formules précédentes. Pour trouver le gradient\n",
    "d'une telle fonction, on va réécrire la fonction comme étant une\n",
    "composition de fonctions dont le gradient est facile à calculer en\n",
    "utilisant les techniques que nous allons introduire. Dans cette partie\n",
    "nous allons présenter trois formules de dérivation de fonctions\n",
    "composées.\\\n",
    "**Composition de fonctions à une seule variable.**\\\n",
    "Soit $f,g,h: \\mathbb{R}\\rightarrow\\mathbb{R}$, trois fonctions réelles\n",
    "telles que $f(x) = g(h(x))$.\n",
    "$$\\frac{\\mathrm{d} f}{\\mathrm{d} x} = \\frac{\\mathrm{d} g}{\\mathrm{d} h}\\frac{\\mathrm{d} h}{\\mathrm{d} x}$$\n",
    "**Formule de dérivée totale.**\\\n",
    "Soit $f:\\mathbb{R}^{n+1}\\rightarrow\\mathbb{R}$ telle que\n",
    "$f = f(x,u_1(x),\\dots,u_n(x))$ avec\n",
    "$u_i:\\mathbb{R}\\rightarrow\\mathbb{R}$ alors\n",
    "$$\\frac{\\mathrm{d} f\\left(x, u_{1}, \\ldots, u_{n}\\right)}{\\mathrm{d} x}=\\frac{\\partial f}{\\partial x}+\\frac{\\partial f}{\\partial u_{1}} \\frac{\\mathrm{d} u_{1}}{\\mathrm{d} x}+\\frac{\\partial f}{\\partial u_{2}} \\frac{\\mathrm{d} u_{2}}{\\mathrm{d} x}+\\ldots+\\frac{\\partial f}{\\partial u_{n}} \\frac{\\mathrm{d} u_{n}}{\\mathrm{d} x}=\\frac{\\partial f}{\\partial x}+\\sum_{i=1}^{n} \\frac{\\partial f}{\\partial u_{i}} \\frac{\\mathrm{d} u_{i}}{\\mathrm{d} x}.$$\n",
    "\n",
    "**Formule générale de dérivées de fonctions composées.**\\\n",
    "Soit $$\\begin{array}{l}\n",
    "f :\\mathbb{R}^{k} \\rightarrow\\mathbb{R}^{m} \\\\\n",
    "\\mathbf{x} \\mapsto f(\\mathbf{x})\n",
    "\\end{array}\n",
    "\\begin{array}{l}\n",
    "g :\\mathbb{R}^{n} \\rightarrow\\mathbb{R}^{k} \\\\\n",
    "\\mathbf{x} \\mapsto g(\\mathbf{x})\n",
    "\\end{array}$$ où $\\mathbf{x}=(x_1,\\dots,x_n)$ ,\n",
    "$f(\\mathbf{x}) = (f_1(\\mathbf{x}),\\dots,f_m(\\mathbf{x}))$ et\n",
    "$g(\\mathbf{x}) = (g_1(\\mathbf{x}),\\dots,g_k(\\mathbf{x}))$.\n",
    "\n",
    "Le gradient de $f(g(\\mathbf{x}))$ est défini comme suit:\n",
    "\n",
    "$$\n",
    "\\frac{\\partial}{\\partial \\mathbf{x}} \\mathbf{f}(\\mathbf{g}(\\mathbf{x}))=\\left[\\begin{array}{cccc}\n",
    "\\frac{\\partial f_{1}}{\\partial g_{1}} & \\frac{\\partial f_{1}}{\\partial g_{2}} & \\ldots & \\frac{\\partial f_{1}}{\\partial g_{k}} \\\\\n",
    "\\frac{\\partial f_{2}}{\\partial g_{1}} & \\frac{\\partial f_{2}}{\\partial g_{2}} & \\cdots & \\frac{\\partial f_{2}}{\\partial g_{k}} \\\\\n",
    "\\vdots &\\vdots & \\ddots & \\vdots \\\\\n",
    "\\frac{\\partial f_{m}}{\\partial g_{1}} & \\frac{\\partial f_{m}}{\\partial g_{2}} & \\ldots & \\frac{\\partial f_{m}}{\\partial g_{k}}\n",
    "\\end{array}\\right]\\left[\\begin{array}{cccc}\n",
    "\\frac{\\partial g_{1}}{\\partial x_{1}} & \\frac{\\partial g_{1}}{\\partial x_{2}} & \\ldots & \\frac{\\partial g_{1}}{\\partial x_{n}} \\\\\n",
    "\\frac{\\partial g_{2}}{\\partial x_{1}} & \\frac{\\partial g_{2}}{\\partial x_{2}} & \\cdots & \\frac{\\partial g_{2}}{\\partial x_{n}} \\\\\n",
    "\\vdots &\\vdots & \\ddots & \\vdots \\\\\n",
    "\\frac{\\partial g_{k}}{\\partial x_{1}} & \\frac{\\partial g_{k}}{\\partial x_{2}} & \\cdots & \\frac{\\partial g_{k}}{\\partial x_{n}}\n",
    "\\end{array}\\right]\n",
    "$$\n",
    "\n",
    "### Probabilités\n",
    "\n",
    "La théorie des probabilités constitue un outil fondamental dans\n",
    "l'apprentissage automatique. Les probabilités vont nous servir à\n",
    "modéliser une expérience aléatoire, c'est-à-dire un phénomène dont on ne\n",
    "peut pas prédire l'issue avec certitude, et pour lequel on décide que le\n",
    "dénouement sera le fait du hasard.\\\n",
    "**Définition.**\\\n",
    "Une probabilité est une application sur $\\mathcal{P}(\\Omega),$\n",
    "l'ensemble des parties de $\\Omega$ telle que:\n",
    "\n",
    "- $0 \\leq \\operatorname{\\mathbb{P}}(A) \\leq 1,$ pour tout événement\n",
    "  $A \\subseteq \\Omega$;\n",
    "\n",
    "- $\\operatorname{\\mathbb{P}}(A)=\\sum_{\\{\\omega\\} \\in A} \\operatorname{\\mathbb{P}}(\\omega),$\n",
    "  pour tout événement $A$;\n",
    "\n",
    "- $\\operatorname{\\mathbb{P}}(\\Omega)=\\sum_{A_{i}} \\operatorname{\\mathbb{P}}(A_{i})=1,$\n",
    "  avec les $A_{i} \\subseteq \\Omega$ une partition de $\\Omega$.\n",
    "\n",
    "**Proposition.** Soient $A$ et $B$ deux événements,\n",
    "\n",
    "1.  $\\operatorname{Si} A$ et $B$ sont incompatibles,\n",
    "    $\\operatorname{\\mathbb{P}}(A \\cup B)=\\operatorname{\\mathbb{P}}(A)+\\operatorname{\\mathbb{P}}(B).$\n",
    "\n",
    "2.  $\\operatorname{\\mathbb{P}}\\left(A^{c}\\right)=1-\\operatorname{\\mathbb{P}}(A)$,\n",
    "    avec $A^{c}$ le complémentaire de $A$.\n",
    "\n",
    "3.  $\\operatorname{\\mathbb{P}}(\\emptyset)=0.$\n",
    "\n",
    "4.  $\\operatorname{\\mathbb{P}}(A \\cup B)=\\operatorname{\\mathbb{P}}(A)+\\operatorname{\\mathbb{P}}(B)-\\operatorname{\\mathbb{P}}(A \\cap B).$\n",
    "\n",
    "Preuve voir [@epardoux]\\\n",
    "Ci-dessous une définition plus générale de probabilité, valable pour des\n",
    "espaces des événements possibles non dénombrables.\\\n",
    "**Définition.** Soit $A$ une expérience alátoire et $\\Omega$ l'espace\n",
    "des événements possibles associés. Une probabilité sur $\\Omega$ est une\n",
    "application définie sur l'ensemble des événements, qui vérifie:\n",
    "\n",
    "::: {.center}\n",
    "\n",
    "- **Axiome 1:** $0\\leq \\operatorname{\\mathbb{P}}(A)\\leq 1$, pour tout\n",
    "  événement $A$;\n",
    "\n",
    "- **Axiome 2:** Pour toute suite d'événements\n",
    "  $(A_i)_{i\\in \\operatorname{\\mathbf{N}}}$, deux à deux incompatibles,\n",
    "  $$\\operatorname{\\mathbb{P}}\\left(\\bigcup_{i \\in \\operatorname{\\mathbf{N}}} A_{i}\\right)=\\sum_{i \\in \\operatorname{\\mathbf{N}}} \\operatorname{\\mathbb{P}}\\left(A_{i}\\right);$$\n",
    "\n",
    "- **Axiome 3:** $\\operatorname{\\mathbb{P}}(\\Omega) = 1.$\n",
    "  :::\n",
    "\n",
    "$\\mathrm{NB}:$ Les événements\n",
    "$\\left(A_{i}\\right)_{i \\in \\operatorname{\\mathbf{N}}}$ sont deux à deux\n",
    "incompatibles, si pour tous $i \\neq j, A_{i} \\cap A_{j}=\\emptyset$.\n",
    "\n",
    "#### Indépendance et conditionnement.\n",
    "\n",
    "**Motivation.**\\\n",
    "Quelle est la probablité d'avoir un cancer du poumon?\\\n",
    "Information supplémentaire: vous fumez une vingtaine de cigarettes par\n",
    "jour. Cette information va changer la probabilité. L'outil qui permet\n",
    "cette mise à jour est la probabilité conditionnelle.\\\n",
    "**Définition.**\\\n",
    "Étant donnés deux événements $A$ et $B$, avec\n",
    "$\\operatorname{\\mathbb{P}}(A) > 0$, on appelle probabilité de $B$\n",
    "conditionnellement à $A$, ou sachant $A,$ la probabilité notée\n",
    "$\\operatorname{\\mathbb{P}}(B \\mid A)$ définie par:\n",
    "\n",
    "$$\n",
    "\\operatorname{\\mathbb{P}}(B \\mid A)=\\frac{\\operatorname{\\mathbb{P}}(A \\cap B)}{\\mathbb{P}(A)}.$$ L'équation\n",
    "[\\[prob_condit\\]](#prob_condit){reference-type=\"ref\"\n",
    "reference=\"prob_condit\"} peut aussi s'écrire comme\n",
    "$\\mathbb{P}(A \\cap B)=\\mathbb{P}(B \\mid A) \\mathbb{P}(A)$.\\\n",
    "De plus, la probabilité conditionnelle sachant $A$, notée\n",
    "$\\mathbb{P}(. \\mid A)$ est une nouvelle probabilité et possède toutes\n",
    "les propriétés d'une probabilité.\n",
    "\n",
    "**Proposition.** (**Formule des probabilités totales généralisée**)\\\n",
    "Soit $(A_i)_{i\\in I}$ ($I$ un ensemble fini d'indices) une partition de\n",
    "$\\Omega$ telle que $0 < \\mathbb{P}(A_i)\\leq 1 \\quad\\forall\\  i\\in I.$\n",
    "Pour tout événement B, on a\n",
    "$$\\mathbb{P}(B)=\\sum_{i \\in I} \\mathbb{P}\\left(B|A_{i}\\right)\\mathbb{P}\\left(A_{i}\\right).$$\n",
    "La formule des probabilités totales permet de servir les étapes de\n",
    "l'expérience aléatoire dans l'ordre chronologique. **Proposition.**\n",
    "(**Formule de Bayes généralisée**)\\\n",
    "Soit $(A_i)_{i\\in I}$ une partition de $\\Omega$ tel que\n",
    "$0\\leq \\mathbb{P}(A_{i})\\leq 1,\\forall\\  i\\in I$. Soit un événement $B$,\n",
    "tel que $\\mathbb{P}(B)>0$. Alors pour tout $i\\in I$,\n",
    "$$\\mathbb{P}(A_{i}|B)=\\frac{ \\mathbb{P}\\left(B|A_{i}\\right)\\mathbb{P}\\left(A_{i}\\right)}{\\sum_{i \\in I} \\mathbb{P}\\left(B|A_{i}\\right)\\mathbb{P}\\left(A_{i}\\right)}.\n",
    "$$\n",
    "\n",
    "**Définition.**\\\n",
    "Deux événements $A$ et $B$ sont dits **indépendants** si\n",
    "$$\\mathbb{P}(A\\cap B) = \\mathbb{P}(A)\\mathbb{P}(B).$$ S'ils sont de\n",
    "probabilité non nulle, alors\n",
    "$$\\mathbb{P}(B|A) = \\mathbb{P}(B) \\Leftrightarrow \\mathbb{P}(A|B) = \\mathbb{P}(A) \\Leftrightarrow \\mathbb{P}(A\\cap B) = \\mathbb{P}(A)\\mathbb{P}(B).$$\n",
    "\n",
    "#### Variables aléatoires.\n",
    "\n",
    "**Définition.**\\\n",
    "Une variable aléatoire (v.a) $X$ est une fonction définie sur l'espace\n",
    "fondamental $\\Omega$, qui associe une valeur numérique à chaque résultat\n",
    "de l'expérience aléatoire étudiée. Ainsi, à chaque événement élémentaire\n",
    "$\\omega$, on associe un nombre $X(\\omega)$.\n",
    "\n",
    "Une variable qui ne prend qu'un nombre dénombrable de valeurs est dite\n",
    "**discrète** (par exemple le résultat d'une lancée d'une pièce de\n",
    "monnaie, \\...), sinon, elle est dite **continue** (par exemple le prix\n",
    "d'un produit sur le marché au fil du temps, distance de freinage d'une\n",
    "voiture roulant à 100 km/h).\n",
    "\n",
    "#### Variable aléatoire discrète\n",
    "\n",
    "**Définition.**\\\n",
    "L'espérance mathématique ou moyenne d'une v.a discrète $X$ est le réel\n",
    "$$\\mathbb{E}[X] = \\sum_{k=0}^{\\infty} k \\mathbb{P}[X = k].$$\n",
    "\n",
    "Pour toute fonction $g$,\n",
    "$$\\mathbb{E}[g(X)] = \\sum_{k=0}^{\\infty} g(k) \\mathbb{P}[X = k].$$\n",
    "\n",
    "**Définition.**\\\n",
    "La variance d'une v.a discrète $X$ est le réel positif\n",
    "\n",
    "$$\n",
    "Var[X] = \\mathbb{E}\\left[(X-\\mathbb{E}[X])^2\\right] = \\sum_{k=0}^{\\infty} \\left(k-\\mathbb{E}[X]\\right)^2 \\mathbb{P}[X = k] = \\mathbb{E}[X^2] -\n",
    "\\mathbb{E}[X]^2$$ et l'écart-type de $X$ est la racine carrée de sa\n",
    "variance.\n",
    "$$\n",
    "\n",
    "**Exemple:** (**Loi de Bernoulli**)\\\n",
    "La loi de Bernoulli est fondamentale pour la modélisation des problèmes\n",
    "de classification binaire en apprentissage automatique. On étudie que\n",
    "les expériences aléatoires qui n'ont que deux issues possibles (succès\n",
    "ou échec). Une expérience aléatoire de ce type est appelée une épreuve\n",
    "de Bernoulli. Elle se conclut par un succès si l'évènement auquel on\n",
    "s'intéresse est réalisé ou un échec sinon. On associe à cette épreuve\n",
    "une variable aléatoire $Y$ qui prend la valeur $1$ si l'évènement est\n",
    "réalisé et la valeur $0$ sinon. Cette v.a. ne prend donc que deux\n",
    "valeurs ($0$ et $1$) et sa loi est donnée par :\n",
    "$$\\mathbb{P}[Y=1]=p, \\quad \\mathbb{P}[Y=0]=q=1-p.\\qquad \\operatorname{Avec } p \\in [0, 1].$$\n",
    "\n",
    "On dit alors que $Y$ suit une loi de Bernoulli de paramètre $p,$ notée\n",
    "$\\mathcal{B}(p)$. La v.a. $Y$ a pour espérance $p$ et pour variance\n",
    "$p(1-p) .$ En effet, $$\\mathbb{E}[Y]=0 \\times(1-p)+1 \\times p=p$$ et\n",
    "$$\\operatorname{Var}(Y)=\\mathbb{E}\\left[Y^{2}\\right]-\\mathbb{E}[Y]^{2}=\\mathbb{E}[Y]-\\mathbb{E}[Y]^{2}=p(1-p).$$\n",
    "\n",
    "**Schéma de Bernoulli** :\n",
    "\n",
    "- Chaque épreuve a deux issues : succès $[S]$ ou échec $[E]$.\n",
    "\n",
    "- Pour chaque épreuve, la probabilité d'un succès est la même, notons\n",
    "  $\\mathbb{P}(S) = p$ et $\\mathbb{P}(E) = q = 1 - p.$\n",
    "\n",
    "- Les $n$ épreuves sont **indépendantes** : la probabilité d'un succès\n",
    "  ne varie pas, elle ne dépend pas des informations sur les résultats\n",
    "  des autres épreuves.\n",
    "\n",
    "#### Variable aléatoire continue\n",
    "\n",
    "Contrairement aux v.a. discrètes, les v.a. continues sont utilisées pour\n",
    "mesurer des grandeurs \\\"continues\\\" (comme distance, masse,\n",
    "pression\\...). Une variable aléatoire continue est souvent définie par\n",
    "sa densité de probabilité ou simplement densité. Une densité $f$ décrit\n",
    "la loi d'une v.a $X$ en ce sens:\n",
    "$$\\forall\\  a,b \\in \\mathbb{R}, \\quad \\mathbb{P}[a\\leq X \\leq b] = \\int_{a}^{b} f(x)dx$$\n",
    "et\n",
    "$$\\forall\\  x\\in \\mathbb{R}, \\quad F(x) = \\mathbb{P}[X\\leq x] =  \\int_{-\\infty}^{x} f(t)dt$$.\n",
    "On en déduit qu'une densité doit vérifier\n",
    "$$\\forall\\  x\\in \\mathbb{R}, \\quad f(x)\\geq 0 \\text{ et } \\int_{\\mathbb{R}}^{} f(x)dx = 1$$.\n",
    "\n",
    "**Définition.**\\\n",
    "On appelle densité de probabilité toute fonction réelle positive,\n",
    "d'intégrale $1$.\n",
    "\n",
    "**Définition.**\\\n",
    "L'espérance mathématiques de la v.a $X$ est définie par\n",
    "$$\\mathbb{E}[X]=\\int_{\\mathbb{R}}^{} xf(x)dx.$$\n",
    "\n",
    "**Exemple.** **La loi normale**\\\n",
    "C'est la loi de probabilité la plus importante. Son rôle est central\n",
    "dans de nombreux modèles probabilistes et en statistique. Elle possède\n",
    "des propriétés intéressantes qui la rendent agréable à utiliser. La\n",
    "densité d'une variable aléatoire suivant la loi normale de moyenne $\\mu$\n",
    "et d'écart-type $\\sigma$ ($\\mathcal{N}(\\mu,\\sigma^2)$) est définie par\n",
    "$$f(x) = \\frac{1}{\\sigma\\sqrt{2\\pi}}\\exp\\left(-\\frac{(x-\\mu)^2}{2\\sigma^2}\\right), \\quad \\forall\\  x \\in \\mathbb{R}.$$\n",
    "Quand $\\mu=0 \\quad \\text{et} \\quad \\sigma = 1$, on parle de loi normale\n",
    "centrée et réduite.\n",
    "\n",
    "#### Loi des grands nombres\n",
    "\n",
    "Considérons une suite $\\left(X_{n}\\right)_{n \\geq 1}$ de v.a.\n",
    "indépendantes et de même loi. Supposons que ces v.a. ont une espérance,\n",
    "$m$ et une variance, $\\sigma^{2}$.\n",
    "\n",
    "**Théorème.**\\\n",
    "$$\\mathbb{E}\\left[\\sum_{i=1}^{n} X_i\\right] = nm$$\n",
    "$$\\operatorname{Var}\\left[\\sum_{i=1}^{n} X_i\\right] = n\\sigma^2$$\n",
    "\n",
    "**Définition.**\\\n",
    "La moyenne empirique des v.a. $X_1,\\dots,X_n$ est la v.a.\n",
    "$$\\bar{X_n} = \\frac{X_1+\\dots + X_n}{n}.$$ On sait d'ores et déjà que la\n",
    "moyenne empirique a pour espérance $m$ et pour variance\n",
    "$\\frac{\\sigma^2}{n}$. Ainsi, plus $n$ est grand, moins cette v.a. varie.\n",
    "A la limite, quand $n$ tend vers l'infini, elle se concentre sur son\n",
    "espérance, $m$. C'est la loi des grands nombres.\n",
    "\n",
    "**Théorème.** (**Convergence en Probabilité**)\\\n",
    "Quand $n$ est grand, $\\bar{X_n}$ est proche de $m$ avec une forte\n",
    "probabilité. Autrement dit, $\\forall\\ \\varepsilon \\ge 0, \\quad\n",
    "\\lim\\limits\\_{n\\to\\infty} \\mathbb{P}(|\\bar{X_n}-m|> \\varepsilon) = 0.$\n",
    "\n",
    "**Théorème central limite**\n",
    "Le Théorème central limite est très important en apprentissage\n",
    "automatique. Il est souvent utilisé pour la transformation des données\n",
    "surtout au traitement de données aberrantes.\n",
    "\n",
    "**Théorème.**\\\n",
    "Pour tous réels $a<b$, quand $n$ tend vers $+\\infty$,\n",
    "$$\\mathbb{P}\\left(a \\leq \\frac{\\bar{X}_{n}-m}{\\sigma / \\sqrt{n}} \\leq b\\right) \\longrightarrow \\int_{a}^{b} \\frac{1}{\\sqrt{2 \\pi}} e^{-x^{2} / 2} \\mathrm{d} x.$$\n",
    "On dit que $\\displaystyle \\frac{\\bar{X}_{n}-m}{\\sigma / \\sqrt{n}}$\n",
    "converge en loi vers la loi normale $\\mathcal{N}(0,1)$.\n",
    "\n",
    "#### Intervalles de confiance\n",
    "\n",
    "Soit $X$ un caractère (ou variable) étudié sur une population, de\n",
    "moyenne $m$ et de variance $\\sigma^2$. On cherche ici à donner une\n",
    "estimation de la moyenne $m$ de ce caractère, calculée à partir de\n",
    "valeurs observées sur un échantillon $(X_1, ..., X_n)$. La fonction de\n",
    "l'échantillon qui estimera un paramètre est appelée estimateur, son\n",
    "écart-type est appelé erreur standard et est noté SE. L'estimateur de la\n",
    "moyenne $m$ est la moyenne empirique: $$\\frac{1}{n}\\sum_{i=1}^{n} X_i$$\n",
    "D'après les propriétés de la loi normale, avec un erreur $\\alpha = 5\\%$\n",
    "quand $n$ est grand on sait que\n",
    "$$\\mathbb{P}\\left[m-2\\sigma/ \\sqrt{n}\\leq \\bar{X_n}\\leq m+2\\sigma/ \\sqrt{n}\\right] = 1- \\alpha = 0.954$$\n",
    "\n",
    "ou, de manière équivalente,\n",
    "$$\\mathbb{P}\\left[\\bar{X_n}-2\\sigma/ \\sqrt{n}\\leq m\\leq \\bar{X_n}+2\\sigma/ \\sqrt{n}\\right] = 1- \\alpha = 0.954$$\n",
    "Ce qui peut se traduire ainsi: quand on estime $m$ par $\\bar{X_n}$,\n",
    "l'erreur faite est inférieure à $2\\sigma/ \\sqrt{n}$, pour $95,4\\%$ des\n",
    "échantillons. Ou avec une probabilité de $95,4\\%$, la moyenne inconnue\n",
    "$m$ est dans l'intervalle\n",
    "$\\left[\\bar{X_n}-2\\sigma/ \\sqrt{n},\\ \\bar{X_n}+2\\sigma/ \\sqrt{n}\\right]$.\\\n",
    "Voir [@estatML] pour plus d'explication.\\\n",
    "**Définition.**\\\n",
    "On peut associer à chaque incertitude $\\alpha$, un intervalle appelé\n",
    "intervalle de confiance de niveau de confiance $1 - \\alpha$, qui\n",
    "contient la vraie moyenne $m$ avec une probabilité égale à $1 - \\alpha$.\n",
    "\n",
    "**Définition.**\\\n",
    "Soit $Z$ une v.a.. Le fractile supérieur d'ordre $\\alpha$ de la loi de\n",
    "$Z$ est le réel $z$ qui vérifie\n",
    "$$\\mathbb{P}\\left[Z\\geq z\\right] = \\alpha$$ Le fractile inférieur\n",
    "d'ordre $\\alpha$ de la loi $Z$ est le réel $z$ qui vérifie\n",
    "$$\\mathbb{P}\\left[Z\\leq z\\right] = \\alpha.$$ Quand l'écart-type\n",
    "théorique de la loi du caractère $X$ étudié n'est pas connu, on l'éstime\n",
    "par l'écart-type empirique $s_{n-1}$. Comme on dispose d'un grand\n",
    "échantillon, l'erreur commise est petite. L'intervalle de confiance, de\n",
    "niveau de confiance $1-\\alpha$ devient :\n",
    "$$\\left[\\bar{x}_{n}-z_{\\alpha / 2} \\frac{s_{n-1}}{\\sqrt{n}}, \\ \\bar{x}_{n}+z_{\\alpha / 2} \\frac{s_{n-1}}{\\sqrt{n}}\\right]$$\n",
    "où\n",
    "$$s_{n-1}^{2}=\\frac{1}{n-1} \\sum_{i=1}^{n}\\left(x_{i}-\\bar{x}\\right)^{2}.$$\n",
    "\n",
    "### Estimations paramétriques\n",
    "\n",
    "Soit $(\\Omega,\\mathcal{A},\\mathbf{P})$ un espace probabilisé et\n",
    "$\\mathbf{x}$ une $v.a.$ de $(\\Omega,\\mathcal{A})$ dans\n",
    "$(E,\\mathcal{E})$. La donnée d'un modèle statistique c'est la donnée\n",
    "d'une famille de probabilités sur $(E,\\mathcal{E})$,\n",
    "$\\{\\mathbb{P}_{\\theta},\\theta\\in\\Theta\\}$. Le modèle étant donné, on\n",
    "suppose alors que la loi de $\\mathbf{x}$ appartient au modèle\n",
    "$\\{\\mathbf{P}_{\\theta},\\theta\\in\\Theta\\}$. Par exemple dans le modèle de\n",
    "Bernoulli, $\\mathbf{x} = (x_1,\\dots,x_n)$ où les $x_i$ sont $i.i.d.$\n",
    "(indépendantes et identiquement distribuées) de loi de Bernoulli de\n",
    "paramètre $\\theta\\in\\left]0,1\\right]$. $E = \\{0,1\\}^n$,\n",
    "$\\mathcal{E} = \\mathcal{P}(E)$, $\\Theta = \\left]0,1\\right]$ et\n",
    "$P_{\\theta}=\\left((1-\\theta) \\delta_{0}+\\theta \\delta_{1}\\right)^{\\otimes n}.$\\\n",
    "**Définition.**\\\n",
    "On dit que le modèle\n",
    "$\\left\\{\\mathbb{P}_{\\theta},\\theta\\in\\Theta\\right\\}$ est identifiable si\n",
    "l'application $$\\begin{array}{l}\n",
    "        \\Theta \\rightarrow\\left\\{P_{\\theta}, \\theta \\in \\Theta\\right\\} \\\\\n",
    "        \\theta \\mapsto P_{\\theta}\n",
    "    \\end{array}$$ est injective.\n",
    "\n",
    "**Définition.**\\\n",
    "Soit $g:\\  \\Theta\\rightarrow\\mathbb{R}^k$. On appelle estimateur de\n",
    "$g(\\theta)$ au vu de l'observation $x$, toute application\n",
    "$T : \\Omega\\rightarrow \\mathbb{R}^k$ de la forme $T = h(x)$ où\n",
    "$h : E\\mapsto\\mathbb{R}^k$ mesurable. Un estimateur ne doit pas dépendre\n",
    "de la quantité $g(\\theta)$ que l'on cherche à estimer. On introduit les\n",
    "propriètés suivantes d'un estimateur.\\\n",
    "**Définition.**\\\n",
    "$T$ est un estimateur sans biais de $g(\\theta)$ si pour tout\n",
    "$\\theta \\in\\Theta,\\quad \\mathbb{E}_{\\theta}[T] = g(\\theta)$.\n",
    "\n",
    "Dans le cas contraire, on dit que l'estimateur $T$ est biaisé et on\n",
    "appelle biais la quantité $\\mathbb{E}_{\\theta}[T] - g(\\theta)$.\n",
    "\n",
    "Généralement $\\mathbf{x}$ est un vecteur\n",
    "$\\left(x_{1}, \\ldots, x_{n}\\right)$ d'observations $(n$ étant le nombre\n",
    "d'entre elles). Un exemple important est le cas où $x_{1},\\ldots, x_{n}$\n",
    "forme un $n$-échantillon c'est à dire lorsque que $x_{1}, \\ldots, x_{n}$\n",
    "sont i.i.d. On peut alors regarder des propriétés asymptotiques de\n",
    "l'estimateur, c'est-à-dire en faisant tendre le nombre d'observations\n",
    "$n$ vers $+\\infty$. Dans ce cas, il est naturel de noter $T = T_n$ comme\n",
    "dépendant de $n$. On a alors la définition suivante :\n",
    "\n",
    "**Définition.**\n",
    "\n",
    "$T_n$ est un estimateur consistant de $g(\\theta)$ si pour tout\n",
    "$\\theta \\in \\Theta$, $T_n$ converge en probabilité vers $g(\\theta)$ sous\n",
    "$P_{\\theta}$ lorsque $n\\to\\infty$.\n",
    "\n",
    "On définit le risque quadratique de l'estimateur dans le cas où\n",
    "$g(\\theta)\\in\\mathbb{R}$.\\\n",
    "**Définition.**\\\n",
    "Soit $T_n$ un estimateur de $g(\\theta)$. Le risque quadratique de $T_n$\n",
    "est défini par\n",
    "$$R(T_n,g(\\theta)) = \\mathbb{E}_{\\theta}[(T_n - g(\\theta))^2].$$\n",
    "\n",
    "#### Estimation par la méthode des moments\n",
    "\n",
    "Considérons un échantillon $\\mathbf{x} = (x_1,\\dots,x_n)$. Soit\n",
    "$f = (f_1,\\dots,f_k)$ une application de $\\mathcal{X}$ dans\n",
    "$\\mathbb{R}^k$ tel que le modèle\n",
    "$\\{\\mathbb{P}_{\\theta},\\theta\\in\\Theta\\}$ est identifiable si\n",
    "l'application $\\Phi$\n",
    "\n",
    "$$\n",
    "\\begin{array}{l}\n",
    "\\Phi: ~\\Theta \\rightarrow \\mathbb{R}^k \\\\\n",
    "\\quad ~~~\\theta \\mapsto \\Phi(\\theta) = \\mathbb{E}_{\\theta}[f(x)]\n",
    "\\end{array}\n",
    "$$\n",
    "\n",
    "est injective. On définit l'estimateur $\\hat{\\theta}_n$ comme la\n",
    "solution dans $\\Theta$ (quand elle existe) de l'équation\n",
    "$$\\mathbb{E}_{\\theta}[f(\\mathbf{x})]\\approx \\frac{1}{n}\\sum_{i=1}^{n} f(x_i).$$\n",
    "\n",
    "Souvent, lorsque $\\mathcal{X}\\subset \\mathbb{R},$ on prend\n",
    "$f_i(x) = x^i$ et $\\Phi$ correspond donc au ième moment de la variable\n",
    "de $X_i$ sous $\\mathbb{P}_{\\theta}$. Ce choix justifie le nom donné à la\n",
    "méthode. Voici quelques exemples d'estimateurs bâtis sur cette méthode.\n",
    "\n",
    "**Exemple.** (**Loi uniforme**)\\\n",
    "Ici $k=1$, $Q_{\\theta}$ est la loi uniforme sur $[0,\\theta]$ avec\n",
    "$\\theta > 0$. On a pour tout $\\theta$,\n",
    "$\\displaystyle \\mathbb{E}_{\\theta}[X_1] = \\frac{\\theta}{2}$, on peut\n",
    "donc prendre par exemple $\\displaystyle \\Phi(\\theta) = \\frac{\\theta}{2}$\n",
    "et $f(x) = x$. L'estimateur obtenu par la méthode des moments est alors\n",
    "$\\hat{\\theta}_n =2\\bar{X_n}$. Cet estimateur est sans biais et\n",
    "constant.\\\n",
    "**Exemple.** (**Loi normale**)\\\n",
    "Ici $k=2$, on prend $Q_{\\theta} = \\mathcal{N}(m,\\sigma^2)$ avec\n",
    "$\\theta = (m,\\sigma^2)\\in\\mathbb{R}\\times\\mathbb{R}_{+}^{*}$. Pour tout\n",
    "$\\theta$, $\\mathbb{E}_{\\theta}[X_1] = m$ et\n",
    "$\\mathbb{E}_{\\theta}[X_1^2] = m^2 + \\sigma^2$ , on peut donc prendre par\n",
    "exemple, $f_1(x) = x$ et $f_2(x) = x^2$ ce qui donne\n",
    "$\\Phi(m,\\ \\sigma^2) = (m,m^2+\\sigma^2)$. L'estimateur obtenu par la\n",
    "méthode des moments vérifie\n",
    "$$\\hat{m}_{n}=\\bar{X}_{n} \\text { et } \\hat{m}_{n}^{2}+\\hat{\\sigma}_{n}^2=\\frac{1}{n} \\sum_{i=1}^{n} X_{i}^{2},$$\n",
    "c'est-à-dire\n",
    "$$\\hat{\\theta}_{n}=\\left(\\bar{X}_{n},\\ \\frac{1}{n} \\sum_{i=1}^{n}\\left(X_{i}-\\bar{X}_{n}\\right)^{2}\\right).$$\n",
    "L'estimateur est consistant mais l'estimateur de la variance est biaisé.\n",
    "\n",
    "#### Estimation par maximum de vraisemblance\n",
    "\n",
    "Soit $\\{E,\\ \\mathcal{E},\\ \\{P_{\\theta},\\ \\theta\\in\\Theta\\}\\}$ un modèle\n",
    "statistique, où $\\Theta\\subset\\mathbb{R}^k$. On suppose qu'il existe une\n",
    "mesure $\\sigma$-finie $\\mu$ qui domine le modèle, c'est à dire que\n",
    "$\\forall\\  \\theta\\in\\Theta$, $P_{\\theta}$ admet une densité par rapport\n",
    "à $\\mu$.\\\n",
    "**Définition.**\\\n",
    "Soit $\\mathbf{x}$ une observation. On appelle vraisemblance de\n",
    "$\\mathbf{x}$ l'application $$\\begin{array}{l}\n",
    "    \\Theta \\rightarrow\\mathbb{R}_+ \\\\\n",
    "    \\theta \\mapsto \\mathbb{P}(\\theta,\\ \\mathbf{x})\n",
    "    \\end{array}$$ On appelle estimateur du maximum de vraisemblance de\n",
    "$\\theta$, tout élément $\\hat{\\theta}$ de $\\Theta$ maximisant la\n",
    "vraisemblance, c'est à dire vérifiant\n",
    "$$\\hat{\\theta} = \\arg \\underset{\\theta\\in\\Theta}{\\max}\\  \\mathbf{P}(\\theta,\\ \\mathbf{x})$$\n",
    "\n",
    "Considérons le cas typique où\n",
    "$\\mathbf{x}=\\left(x_{1}, \\ldots, x_{n}\\right),$ les $x_{i}$ formant un\n",
    "$n$-échantillon de loi $Q_{\\theta_{0}}$ où $Q_{\\theta_{0}}$ est une loi\n",
    "sur $\\mathcal{X}$ de paramètre inconnu $\\theta_{0} \\in \\Theta \\subset$\n",
    "$\\mathbb{R}^{k} .$ On suppose en outre que pour tout\n",
    "$\\theta \\in \\Theta, Q_{\\theta}$ est absolument continue par rapport à\n",
    "une mesure $\\nu$ sur $\\mathcal{X}$. Dans ce cas, en notant\n",
    "$$q(\\theta, x)=\\frac{d Q_{\\theta}}{d \\nu}(x)$$\n",
    "\n",
    "et en prenant $\\mu=\\nu^{\\otimes n}$ on a la vraisemblance qui s'écrit\n",
    "sous la forme\n",
    "$$\\mathbb{P}(\\theta, \\mathbf{x})=\\prod_{i=1}^{n} q\\left(\\theta, x_{i}\\right)$$\n",
    "et donc\n",
    "$$\\hat{\\theta}_{n}=\\arg \\max _{\\theta \\in \\Theta} \\frac{1}{n} \\sum_{i=1}^{n} \\log \\left[q\\left(\\theta, x_{i}\\right)\\right]$$\n",
    "avec la convention $\\log (0)=-\\infty .$\n",
    "\n",
    "**Exemple.** (**Modèle de Bernoulli**)\\\n",
    "Soit $Q_{\\theta_{0}}=\\mathcal{B}(\\theta)$ avec $\\theta \\in[0,1]=\\Theta$.\n",
    "Pour tout $\\theta \\in] 0,1[$ et $x \\in\\{0,1\\}$\n",
    "$$q(\\theta, x)=\\theta^{x}(1-\\theta)^{1-x}=(1-\\theta) \\exp \\left[x \\log \\left(\\frac{\\theta}{1-\\theta}\\right)\\right]$$\n",
    "et donc l'estimateur du maximum de vraisemblance doit maximiser dans\n",
    "l'intervalle \\[0,1\\].\n",
    "$$\\log \\left(\\theta^{S_{n}}(1-\\theta)^{n-S_{n}}\\right)=S_{n} \\log \\left(\\frac{\\theta}{1-\\theta}\\right)+n \\log (1-\\theta)$$\n",
    "avec $S_n = \\sum_{i} x_i$ ce qui conduit à\n",
    "$\\hat{\\theta}_{n}=\\bar{\\mathbf{x}}$ en résolvant l'équation\n",
    "$\\nabla \\log(q(\\theta, x)) = 0$.\n",
    "\n",
    "[^1]: http://docs.anaconda.com/anaconda/navigator/"
   ]
  }
 ],
 "metadata": {
  "language_info": {
   "name": "python"
  }
 },
 "nbformat": 4,
 "nbformat_minor": 5
}