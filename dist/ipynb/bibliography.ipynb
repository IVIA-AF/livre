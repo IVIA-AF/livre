{
 "cells": [
  {
   "cell_type": "markdown",
   "id": "eaaff42c",
   "metadata": {},
   "source": [
    "# Bibliography\n",
    "\n",
    "The breakthrough of deep learning origins from :cite:`krizhevsky2017imagenet` for computer vision, there is a rich of following up works, such as :cite:`he2016deep`. NLP is catching up as well, the recent work :cite:`devlin2018bert` shows significant improvements.\n",
    "\n",
    "Two keys together :cite:`he2016deep,devlin2018bert`. Single author\n",
    ":citet:`mitchell80`, two authors :citet:`newell1980mechanisms`\n",
    "\n",
    ":bibliography:`./refs.bib`"
   ]
  }
 ],
 "metadata": {
  "language_info": {
   "name": "python"
  }
 },
 "nbformat": 4,
 "nbformat_minor": 5
}